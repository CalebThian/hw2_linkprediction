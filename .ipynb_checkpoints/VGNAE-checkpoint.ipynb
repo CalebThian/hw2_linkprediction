{
 "cells": [
  {
   "cell_type": "code",
   "execution_count": 1,
   "id": "0811582f",
   "metadata": {},
   "outputs": [
    {
     "name": "stderr",
     "output_type": "stream",
     "text": [
      "C:\\Users\\caleb\\anaconda3\\envs\\pytorch\\lib\\site-packages\\tqdm\\auto.py:21: TqdmWarning: IProgress not found. Please update jupyter and ipywidgets. See https://ipywidgets.readthedocs.io/en/stable/user_install.html\n",
      "  from .autonotebook import tqdm as notebook_tqdm\n"
     ]
    }
   ],
   "source": [
    "import os.path as osp\n",
    "import pandas as pd\n",
    "import networkx as nx\n",
    "import numpy as np\n",
    "import scipy.sparse as sp\n",
    "\n",
    "import torch\n",
    "import torch.nn as nn\n",
    "import torch.nn.functional as F\n",
    "\n",
    "from torch_geometric.datasets import Planetoid, Coauthor, Amazon\n",
    "from torch_geometric.utils import train_test_split_edges, dense_to_sparse\n",
    "from torch_geometric.nn import GAE, VGAE, APPNP,GCNConv,InnerProductDecoder\n",
    "import torch_geometric.transforms as T\n",
    "from torch_geometric.data import Data"
   ]
  },
  {
   "cell_type": "code",
   "execution_count": 2,
   "id": "36680c74",
   "metadata": {},
   "outputs": [],
   "source": [
    "# Load the Cora dataset\n",
    "dataset = Planetoid(root='/tmp/cora', name='Cora')\n",
    "data = dataset[0]\n",
    "data = T.NormalizeFeatures()(data)"
   ]
  },
  {
   "cell_type": "code",
   "execution_count": 3,
   "id": "75ec8b55",
   "metadata": {},
   "outputs": [
    {
     "data": {
      "text/html": [
       "<div>\n",
       "<style scoped>\n",
       "    .dataframe tbody tr th:only-of-type {\n",
       "        vertical-align: middle;\n",
       "    }\n",
       "\n",
       "    .dataframe tbody tr th {\n",
       "        vertical-align: top;\n",
       "    }\n",
       "\n",
       "    .dataframe thead th {\n",
       "        text-align: right;\n",
       "    }\n",
       "</style>\n",
       "<table border=\"1\" class=\"dataframe\">\n",
       "  <thead>\n",
       "    <tr style=\"text-align: right;\">\n",
       "      <th></th>\n",
       "      <th>id</th>\n",
       "      <th>to</th>\n",
       "      <th>from</th>\n",
       "    </tr>\n",
       "  </thead>\n",
       "  <tbody>\n",
       "    <tr>\n",
       "      <th>0</th>\n",
       "      <td>E370</td>\n",
       "      <td>26</td>\n",
       "      <td>317</td>\n",
       "    </tr>\n",
       "    <tr>\n",
       "      <th>1</th>\n",
       "      <td>E667</td>\n",
       "      <td>196</td>\n",
       "      <td>323</td>\n",
       "    </tr>\n",
       "    <tr>\n",
       "      <th>2</th>\n",
       "      <td>E3190</td>\n",
       "      <td>739</td>\n",
       "      <td>468</td>\n",
       "    </tr>\n",
       "    <tr>\n",
       "      <th>3</th>\n",
       "      <td>E848</td>\n",
       "      <td>576</td>\n",
       "      <td>156</td>\n",
       "    </tr>\n",
       "    <tr>\n",
       "      <th>4</th>\n",
       "      <td>E2161</td>\n",
       "      <td>466</td>\n",
       "      <td>199</td>\n",
       "    </tr>\n",
       "  </tbody>\n",
       "</table>\n",
       "</div>"
      ],
      "text/plain": [
       "      id   to  from\n",
       "0   E370   26   317\n",
       "1   E667  196   323\n",
       "2  E3190  739   468\n",
       "3   E848  576   156\n",
       "4  E2161  466   199"
      ]
     },
     "execution_count": 3,
     "metadata": {},
     "output_type": "execute_result"
    }
   ],
   "source": [
    "path = \"hw2_data/\"\n",
    "dss = ['dataset1','dataset2','dataset3'] #datasets\n",
    "datasets = dict()\n",
    "for ds in dss:\n",
    "    datasets[ds] = dict()\n",
    "    datasets[ds]['content'] = pd.read_csv(path+ds+\"/content.csv\",delimiter = '\\t',header = None)\n",
    "    datasets[ds]['train'] = pd.read_csv(path+ds+\"/train.csv\",delimiter = ',')\n",
    "    datasets[ds]['test'] = pd.read_csv(path+ds+\"/test.csv\",delimiter = ',')\n",
    "    datasets[ds]['upload'] = pd.read_csv(path+ds+\"/upload.csv\",delimiter = ',')\n",
    "datasets[dss[2]]['test'].head()"
   ]
  },
  {
   "cell_type": "code",
   "execution_count": 4,
   "id": "26b78e9b",
   "metadata": {},
   "outputs": [
    {
     "name": "stdout",
     "output_type": "stream",
     "text": [
      "dataset1\n",
      "Nodes 2708\n",
      "Attributes for each node:1433\n",
      "Positive edges given: 4324\n",
      "dataset2\n",
      "Nodes 3312\n",
      "Attributes for each node:3703\n",
      "Positive edges given: 3736\n",
      "dataset3\n",
      "Nodes 877\n",
      "Attributes for each node:1703\n",
      "Positive edges given: 1273\n"
     ]
    }
   ],
   "source": [
    "for dss_num in range(3):\n",
    "    Content = datasets[dss[dss_num]]['content']\n",
    "    Train = datasets[dss[dss_num]]['train']\n",
    "    Test = datasets[dss[dss_num]]['test']\n",
    "    Upload = datasets[dss[dss_num]]['upload']\n",
    "    print(dss[dss_num])\n",
    "    print(f'Nodes {Content.shape[0]}')\n",
    "    print(f'Attributes for each node:{Content.shape[1]-1}')\n",
    "    pos = Train[Train['label']==1].shape[0]\n",
    "    print(f'Positive edges given: {pos}')"
   ]
  },
  {
   "cell_type": "code",
   "execution_count": 7,
   "id": "b8039563",
   "metadata": {},
   "outputs": [],
   "source": [
    "#For example:\n",
    "dss_num = 0\n",
    "Content = datasets[dss[dss_num]]['content']\n",
    "Train = datasets[dss[dss_num]]['train']\n",
    "Test = datasets[dss[dss_num]]['test']\n",
    "Upload = datasets[dss[dss_num]]['upload']"
   ]
  },
  {
   "cell_type": "code",
   "execution_count": 8,
   "id": "8855569e",
   "metadata": {},
   "outputs": [],
   "source": [
    "def load_data(content,train, test):\n",
    "    G = nx.Graph()\n",
    "    # for easier split the edges, create 2 graph, 1 with positive edge, the other with given negative edges\n",
    "    G_pos = nx.Graph()\n",
    "    G_neg = nx.Graph()\n",
    "    for i in range(len(content)):\n",
    "        G.add_node(int(content.iloc[i,0]),features = np.array(content.iloc[i,1:]))\n",
    "        # pos and neg\n",
    "        G_pos.add_node(int(content.iloc[i,0]),features = np.array(content.iloc[i,1:]))\n",
    "        G_neg.add_node(int(content.iloc[i,0]),features = np.array(content.iloc[i,1:]))\n",
    "        \n",
    "    for i in range(len(train)):\n",
    "        # Adding nodes into G\n",
    "        '''\n",
    "        if train.loc[i,'from'] not in G:\n",
    "            G.add_node(train.loc[i,'from'],features = graph_node_features_dict[train.loc[i,'from']])\n",
    "        if train.loc[i,'to'] not in G:\n",
    "            G.add_node(train.loc[i,'to'],features = graph_node_features_dict[train.loc[i,'to']])\n",
    "        ''' \n",
    "        # Adding edges\n",
    "        G.add_edge(train.loc[i,'from'],train.loc[i,'to'],label = train.loc[i,'label'])\n",
    "        \n",
    "        # pos and neg\n",
    "        if train.loc[i,'label'] == 0: \n",
    "            G_neg.add_edge(train.loc[i,'from'],train.loc[i,'to'],label = train.loc[i,'label'])\n",
    "        else:\n",
    "            G_pos.add_edge(train.loc[i,'from'],train.loc[i,'to'],label = train.loc[i,'label'])\n",
    "\n",
    "    adj = nx.adjacency_matrix(G,sorted(G.nodes()))\n",
    "    adj_pos = nx.adjacency_matrix(G_pos,sorted(G_pos.nodes()))\n",
    "    adj_neg = nx.adjacency_matrix(G_neg,sorted(G_neg.nodes()))\n",
    "    \n",
    "    features = np.array(\n",
    "        [features for _, features in sorted(G.nodes(data='features'), key=lambda x: x[0])])\n",
    "    #features[:,:1433] = preprocess_features(features[:,:1433])\n",
    "    #features[:,1433:] = preprocess_features(features[:,1433:])\n",
    "    # Skip train,valid,and test mask\n",
    "    \n",
    "    num_features = features.shape[1]\n",
    "    features = torch.FloatTensor(features)\n",
    "    return adj, adj_pos, adj_neg, features, num_features"
   ]
  },
  {
   "cell_type": "code",
   "execution_count": 9,
   "id": "2f8130a5",
   "metadata": {},
   "outputs": [],
   "source": [
    "def preprocess_features(features):\n",
    "    # Row-normalize feature matrix and convert to tuple representation\n",
    "    rowsum = np.array(features.sum(1),dtype = np.float32)\n",
    "    rowsum = (rowsum==0)*1+rowsum\n",
    "    r_inv = np.power(rowsum, -1).flatten()\n",
    "    r_inv[np.isinf(r_inv)] = 0.\n",
    "    r_mat_inv = sp.diags(r_inv)\n",
    "    features = r_mat_inv.dot(features)\n",
    "    return features"
   ]
  },
  {
   "cell_type": "code",
   "execution_count": 10,
   "id": "58968c96",
   "metadata": {},
   "outputs": [],
   "source": [
    "def increase_features(content,train):\n",
    "    G = nx.Graph()\n",
    "    for i in range(len(content)):\n",
    "        G.add_node(int(content.iloc[i,0]),features = np.array(content.iloc[i,1:]))\n",
    "        \n",
    "    # Adding edges\n",
    "    for i in range(len(train)):\n",
    "        # pos and neg\n",
    "        if train.loc[i,'label'] == 1: \n",
    "            G.add_edge(train.loc[i,'from'],train.loc[i,'to'],label = train.loc[i,'label'])\n",
    "            \n",
    "    df = content.copy()\n",
    "    df['pagerank'] = nx.pagerank(G,alpha=0.9).values()\n",
    "    df['pagerank'] = df['pagerank']/np.linalg.norm(df['pagerank'])\n",
    "    \n",
    "    hubs,aut = nx.hits(G)\n",
    "    df['hubs'] = hubs.values()\n",
    "    df['hubs'] = df['hubs']/np.linalg.norm(df['hubs'])\n",
    "    df['aut'] = aut.values()\n",
    "    df['aut'] = df['hubs']/np.linalg.norm(df['aut'])\n",
    "    \n",
    "    \n",
    "    features_name = ['degree','in_degree','out_degree','eigenvec','katz','closeness','info',\n",
    "                     'betweenness','rwbetween','combetween','load','subgraph','harmonic','local_reach',\n",
    "                    'global_reach', 'percolation','order2','trophic','laplacian']\n",
    "    \n",
    "    df[features_name[0]] = nx.degree_centrality(G).values()\n",
    "    #df[features_name[1]] = nx.in_degree_centrality(G).values()\n",
    "    #df[features_name[2]] = nx.out_degree_centrality(G).values()\n",
    "    df[features_name[3]] = nx.eigenvector_centrality(G).values()\n",
    "    #df[features_name[4]] = nx.katz_centrality(G).values()\n",
    "    df[features_name[5]] = nx.closeness_centrality(G).values()\n",
    "    #df[features_name[6]] = nx.information_centrality(G).values()\n",
    "    #df[features_name[7]] = nx.betweenness_centrality(G).values()\n",
    "    #print('finish feature 7')\n",
    "    #df[features_name[8]] = nx.current_flow_betweenness_centrality(G).values()\n",
    "    #df[features_name[9]] = nx.communicability_betweenness_centrality(G).values()\n",
    "    #print('finish feature 9')\n",
    "    df[features_name[10]] = nx.load_centrality(G).values()\n",
    "    print('finish feature 10')\n",
    "    df[features_name[11]] = nx.subgraph_centrality(G).values()\n",
    "    print('finish feature 11')\n",
    "    df[features_name[12]] = nx.harmonic_centrality(G).values()\n",
    "    print('finish feature 12')\n",
    "    #df[features_name[13]] = nx.local_reaching_centrality(G).values()\n",
    "    #print('finish feature 13')\n",
    "    #df[features_name[14]] = nx.global_reaching_centrality(G).values()\n",
    "    #print('finish feature 14')\n",
    "    #df[features_name[15]] = nx.percolation_centrality(G).values()\n",
    "    #print('finish feature 15')\n",
    "    #df[features_name[16]] = nx.second_order_centrality(G).values()\n",
    "    #print('finish feature 16')\n",
    "    #df[features_name[17]] = nx.trophic_levels(G).values()\n",
    "    #print('finish feature 17')\n",
    "    #df[features_name[18]] = nx.laplacian_centrality(G).values()\n",
    "    #print('finish feature 18')\n",
    "    \n",
    "    for fea_num in [0,3,5,10,11,12]:\n",
    "        df[features_name[fea_num]] /= np.linalg.norm(df[features_name[fea_num]])\n",
    "    \n",
    "    return df"
   ]
  },
  {
   "cell_type": "code",
   "execution_count": 23,
   "id": "76a10410",
   "metadata": {},
   "outputs": [
    {
     "name": "stdout",
     "output_type": "stream",
     "text": [
      "finish feature 10\n",
      "finish feature 11\n",
      "finish feature 12\n"
     ]
    },
    {
     "data": {
      "text/plain": [
       "Data(x=[2708, 1442], edge_index=[2, 8472], test=[2, 2172])"
      ]
     },
     "execution_count": 23,
     "metadata": {},
     "output_type": "execute_result"
    }
   ],
   "source": [
    "Content_mod = increase_features(Content,Train)\n",
    "g, pos, neg, features, num_features = load_data(Content_mod,Train,Test)\n",
    "A = g.toarray()\n",
    "edge_index,_ = dense_to_sparse(torch.tensor(A))\n",
    "Apos = pos.toarray()\n",
    "edge_index_pos,_ = dense_to_sparse(torch.tensor(Apos))\n",
    "Aneg = neg.toarray()\n",
    "edge_index_neg,_ = dense_to_sparse(torch.tensor(Aneg))\n",
    "data = Data(edge_index=edge_index_pos,x=features.to(torch.float),test = torch.tensor([Test['from'],Test['to']]))\n",
    "data"
   ]
  },
  {
   "cell_type": "code",
   "execution_count": 24,
   "id": "8112ee26",
   "metadata": {},
   "outputs": [],
   "source": [
    "dev = torch.device('cuda' if torch.cuda.is_available() else 'cpu')\n",
    "channels = 256"
   ]
  },
  {
   "cell_type": "code",
   "execution_count": 25,
   "id": "ac611533",
   "metadata": {},
   "outputs": [],
   "source": [
    "train_rate = 0.9\n",
    "val_ratio = (1-train_rate)#/3\n",
    "test_ratio = 0#(1-train_rate) / 3 * 2\n",
    "data = train_test_split_edges(data.to(dev), val_ratio=val_ratio, test_ratio=0)\n",
    "               #,train_pos_edge_index = edge_index_pos,neg = edge_index_neg,test = edge_index_test)\n",
    "#data = T.NormalizeFeatures()(data) # Should not do this normalization for new features"
   ]
  },
  {
   "cell_type": "code",
   "execution_count": 26,
   "id": "4331a152",
   "metadata": {},
   "outputs": [
    {
     "data": {
      "text/plain": [
       "tensor([0.0000e+00, 0.0000e+00, 0.0000e+00,  ..., 0.0000e+00, 1.3954e-05,\n",
       "        1.9786e-02], device='cuda:0')"
      ]
     },
     "execution_count": 26,
     "metadata": {},
     "output_type": "execute_result"
    }
   ],
   "source": [
    "data.x[0]"
   ]
  },
  {
   "cell_type": "code",
   "execution_count": 27,
   "id": "79d10b7e",
   "metadata": {},
   "outputs": [],
   "source": [
    "model_used = 'Hybrid'\n",
    "scaling_factor = 1.8\n",
    "class Encoder(torch.nn.Module):\n",
    "    def __init__(self, in_channels, out_channels, edge_index,model_used = 'GNAE'):\n",
    "        super(Encoder, self).__init__()\n",
    "        self.linear1 = nn.Linear(in_channels, out_channels)\n",
    "        self.linear2 = nn.Linear(in_channels, out_channels)\n",
    "        self.propagate = APPNP(K=2, alpha=0)\n",
    "        self.model_used = model_used\n",
    "\n",
    "    def forward(self, x, edge_index,not_prop=0):\n",
    "        if self.model_used  == 'GNAE':\n",
    "            x = self.linear1(x)\n",
    "            x = F.normalize(x,p=2,dim=1)  * scaling_factor\n",
    "            x = self.propagate(x, edge_index)\n",
    "            return x\n",
    "\n",
    "        if self.model_used  == 'VGNAE':\n",
    "            x_ = self.linear1(x)\n",
    "            x_ = self.propagate(x_, edge_index)\n",
    "\n",
    "            x = self.linear2(x)\n",
    "            x = F.normalize(x,p=2,dim=1) * scaling_factor\n",
    "            x = self.propagate(x, edge_index)\n",
    "            return x, x_\n",
    "\n",
    "        return x"
   ]
  },
  {
   "cell_type": "code",
   "execution_count": 28,
   "id": "5b8f0f89",
   "metadata": {},
   "outputs": [],
   "source": [
    "def train(model,optimizer):\n",
    "    model.train()\n",
    "    optimizer.zero_grad()\n",
    "    z  = model.encode(x, train_pos_edge_index)\n",
    "    loss = model.recon_loss(z, train_pos_edge_index)\n",
    "    if model_used  in ['VGNAE']:\n",
    "        loss = loss + (1 / data.num_nodes) * model.kl_loss()\n",
    "    loss.backward()\n",
    "    optimizer.step()\n",
    "    return loss"
   ]
  },
  {
   "cell_type": "code",
   "execution_count": 29,
   "id": "f468ee94",
   "metadata": {},
   "outputs": [],
   "source": [
    "def test(pos_edge_index, neg_edge_index,model):\n",
    "    model.eval()\n",
    "    with torch.no_grad():\n",
    "        z = model.encode(x, train_pos_edge_index)\n",
    "    return model.test(z, pos_edge_index, neg_edge_index)"
   ]
  },
  {
   "cell_type": "code",
   "execution_count": 30,
   "id": "2332a3db",
   "metadata": {
    "scrolled": true
   },
   "outputs": [],
   "source": [
    "if model_used  == 'GNAE':   \n",
    "    model = GAE(Encoder(data.x.size()[1], channels, data.train_pos_edge_index,model_used = 'GNAE')).to(dev)\n",
    "    optimizer = torch.optim.Adam(model.parameters(), lr=0.005)\n",
    "if model_used  == 'VGNAE':\n",
    "    model = VGAE(Encoder(data.x.size()[1],channels, data.train_pos_edge_index,model_used = 'VGNAE')).to(dev)\n",
    "    optimizer = torch.optim.Adam(model.parameters(), lr=0.005)\n",
    "if model_used == 'Hybrid':\n",
    "    model1 = GAE(Encoder(data.x.size()[1], channels, data.train_pos_edge_index,model_used = 'GNAE')).to(dev)\n",
    "    model2 = VGAE(Encoder(data.x.size()[1],channels, data.train_pos_edge_index,model_used = 'VGNAE')).to(dev)\n",
    "    optimizer1 = torch.optim.Adam(model1.parameters(), lr=0.005)\n",
    "    optimizer2 = torch.optim.Adam(model2.parameters(), lr=0.005)\n",
    "#model = VGAE(VariationalGCNEncoder(data.x.size()[1],channels)).to(dev)"
   ]
  },
  {
   "cell_type": "code",
   "execution_count": 31,
   "id": "222e977c",
   "metadata": {},
   "outputs": [],
   "source": [
    "data.train_mask = data.val_mask = data.test_mask = data.y = None\n",
    "x, train_pos_edge_index = data.x.to(dev), data.train_pos_edge_index.to(dev)"
   ]
  },
  {
   "cell_type": "code",
   "execution_count": 32,
   "id": "2771c139",
   "metadata": {},
   "outputs": [
    {
     "data": {
      "text/plain": [
       "(0.9005806772518709, 0.8997826508562685)"
      ]
     },
     "execution_count": 32,
     "metadata": {},
     "output_type": "execute_result"
    }
   ],
   "source": [
    "test(data.val_pos_edge_index, data.val_neg_edge_index,model1)"
   ]
  },
  {
   "cell_type": "code",
   "execution_count": 33,
   "id": "ddfe7697",
   "metadata": {
    "scrolled": true
   },
   "outputs": [
    {
     "name": "stdout",
     "output_type": "stream",
     "text": [
      "Epoch: 001, LOSS: 1.1936, AUC: 0.7952, AP: 0.8021\n",
      "Epoch: 002, LOSS: 1.6208, AUC: 0.9281, AP: 0.9253\n",
      "Epoch: 003, LOSS: 1.1339, AUC: 0.9494, AP: 0.9424\n",
      "Epoch: 004, LOSS: 1.0863, AUC: 0.9434, AP: 0.9334\n",
      "Epoch: 005, LOSS: 1.1593, AUC: 0.9499, AP: 0.9418\n",
      "Epoch: 006, LOSS: 1.0624, AUC: 0.9509, AP: 0.9469\n",
      "Epoch: 007, LOSS: 0.9655, AUC: 0.9500, AP: 0.9468\n",
      "Epoch: 008, LOSS: 0.9483, AUC: 0.9490, AP: 0.9456\n",
      "Epoch: 009, LOSS: 0.9718, AUC: 0.9481, AP: 0.9447\n",
      "Epoch: 010, LOSS: 0.9757, AUC: 0.9476, AP: 0.9442\n",
      "Epoch: 011, LOSS: 0.9643, AUC: 0.9476, AP: 0.9445\n",
      "Epoch: 012, LOSS: 0.9434, AUC: 0.9470, AP: 0.9441\n",
      "Epoch: 013, LOSS: 0.9097, AUC: 0.9468, AP: 0.9443\n",
      "Epoch: 014, LOSS: 0.8982, AUC: 0.9473, AP: 0.9444\n",
      "Epoch: 015, LOSS: 0.8926, AUC: 0.9480, AP: 0.9451\n",
      "Epoch: 016, LOSS: 0.9036, AUC: 0.9488, AP: 0.9458\n",
      "Epoch: 017, LOSS: 0.9061, AUC: 0.9494, AP: 0.9465\n",
      "Epoch: 018, LOSS: 0.8999, AUC: 0.9498, AP: 0.9471\n",
      "Epoch: 019, LOSS: 0.8905, AUC: 0.9501, AP: 0.9477\n",
      "Epoch: 020, LOSS: 0.8908, AUC: 0.9505, AP: 0.9482\n",
      "Epoch: 021, LOSS: 0.8790, AUC: 0.9507, AP: 0.9486\n",
      "Epoch: 022, LOSS: 0.8728, AUC: 0.9510, AP: 0.9491\n",
      "Epoch: 023, LOSS: 0.8743, AUC: 0.9514, AP: 0.9495\n",
      "Epoch: 024, LOSS: 0.8612, AUC: 0.9519, AP: 0.9501\n",
      "Epoch: 025, LOSS: 0.8761, AUC: 0.9522, AP: 0.9503\n",
      "Epoch: 026, LOSS: 0.8800, AUC: 0.9525, AP: 0.9508\n",
      "Epoch: 027, LOSS: 0.8809, AUC: 0.9527, AP: 0.9510\n",
      "Epoch: 028, LOSS: 0.8653, AUC: 0.9531, AP: 0.9515\n",
      "Epoch: 029, LOSS: 0.8707, AUC: 0.9534, AP: 0.9518\n",
      "Epoch: 030, LOSS: 0.8551, AUC: 0.9537, AP: 0.9521\n",
      "Epoch: 031, LOSS: 0.8551, AUC: 0.9542, AP: 0.9527\n",
      "Epoch: 032, LOSS: 0.8613, AUC: 0.9547, AP: 0.9532\n",
      "Epoch: 033, LOSS: 0.8566, AUC: 0.9551, AP: 0.9537\n",
      "Epoch: 034, LOSS: 0.8561, AUC: 0.9554, AP: 0.9541\n",
      "Epoch: 035, LOSS: 0.8484, AUC: 0.9557, AP: 0.9544\n",
      "Epoch: 036, LOSS: 0.8510, AUC: 0.9560, AP: 0.9548\n",
      "Epoch: 037, LOSS: 0.8583, AUC: 0.9560, AP: 0.9550\n",
      "Epoch: 038, LOSS: 0.8591, AUC: 0.9562, AP: 0.9554\n",
      "Epoch: 039, LOSS: 0.8479, AUC: 0.9565, AP: 0.9558\n",
      "Epoch: 040, LOSS: 0.8470, AUC: 0.9566, AP: 0.9560\n",
      "Epoch: 041, LOSS: 0.8589, AUC: 0.9568, AP: 0.9563\n",
      "Epoch: 042, LOSS: 0.8472, AUC: 0.9568, AP: 0.9565\n",
      "Epoch: 043, LOSS: 0.8498, AUC: 0.9570, AP: 0.9568\n",
      "Epoch: 044, LOSS: 0.8430, AUC: 0.9571, AP: 0.9571\n",
      "Epoch: 045, LOSS: 0.8476, AUC: 0.9571, AP: 0.9571\n",
      "Epoch: 046, LOSS: 0.8388, AUC: 0.9572, AP: 0.9572\n",
      "Epoch: 047, LOSS: 0.8414, AUC: 0.9574, AP: 0.9574\n",
      "Epoch: 048, LOSS: 0.8475, AUC: 0.9576, AP: 0.9575\n",
      "Epoch: 049, LOSS: 0.8430, AUC: 0.9578, AP: 0.9579\n",
      "Epoch: 050, LOSS: 0.8452, AUC: 0.9580, AP: 0.9581\n",
      "Epoch: 051, LOSS: 0.8362, AUC: 0.9581, AP: 0.9583\n",
      "Epoch: 052, LOSS: 0.8410, AUC: 0.9584, AP: 0.9588\n",
      "Epoch: 053, LOSS: 0.8406, AUC: 0.9586, AP: 0.9590\n",
      "Epoch: 054, LOSS: 0.8369, AUC: 0.9588, AP: 0.9593\n",
      "Epoch: 055, LOSS: 0.8351, AUC: 0.9591, AP: 0.9595\n",
      "Epoch: 056, LOSS: 0.8372, AUC: 0.9592, AP: 0.9597\n",
      "Epoch: 057, LOSS: 0.8343, AUC: 0.9593, AP: 0.9598\n",
      "Epoch: 058, LOSS: 0.8361, AUC: 0.9594, AP: 0.9600\n",
      "Epoch: 059, LOSS: 0.8386, AUC: 0.9594, AP: 0.9601\n",
      "Epoch: 060, LOSS: 0.8365, AUC: 0.9595, AP: 0.9603\n",
      "Epoch: 061, LOSS: 0.8295, AUC: 0.9598, AP: 0.9605\n",
      "Epoch: 062, LOSS: 0.8355, AUC: 0.9598, AP: 0.9605\n",
      "Epoch: 063, LOSS: 0.8335, AUC: 0.9600, AP: 0.9607\n",
      "Epoch: 064, LOSS: 0.8312, AUC: 0.9600, AP: 0.9608\n",
      "Epoch: 065, LOSS: 0.8324, AUC: 0.9598, AP: 0.9607\n",
      "Epoch: 066, LOSS: 0.8284, AUC: 0.9595, AP: 0.9606\n",
      "Epoch: 067, LOSS: 0.8315, AUC: 0.9593, AP: 0.9605\n",
      "Epoch: 068, LOSS: 0.8284, AUC: 0.9591, AP: 0.9604\n",
      "Epoch: 069, LOSS: 0.8260, AUC: 0.9590, AP: 0.9603\n",
      "Epoch: 070, LOSS: 0.8258, AUC: 0.9590, AP: 0.9604\n",
      "Epoch: 071, LOSS: 0.8302, AUC: 0.9592, AP: 0.9604\n",
      "Epoch: 072, LOSS: 0.8254, AUC: 0.9593, AP: 0.9605\n",
      "Epoch: 073, LOSS: 0.8221, AUC: 0.9594, AP: 0.9605\n",
      "Epoch: 074, LOSS: 0.8237, AUC: 0.9594, AP: 0.9604\n",
      "Epoch: 075, LOSS: 0.8277, AUC: 0.9593, AP: 0.9605\n",
      "Epoch: 076, LOSS: 0.8247, AUC: 0.9593, AP: 0.9604\n",
      "Epoch: 077, LOSS: 0.8222, AUC: 0.9593, AP: 0.9605\n",
      "Epoch: 078, LOSS: 0.8239, AUC: 0.9592, AP: 0.9605\n",
      "Epoch: 079, LOSS: 0.8253, AUC: 0.9590, AP: 0.9603\n",
      "Epoch: 080, LOSS: 0.8238, AUC: 0.9588, AP: 0.9601\n",
      "Epoch: 081, LOSS: 0.8214, AUC: 0.9586, AP: 0.9599\n",
      "Epoch: 082, LOSS: 0.8175, AUC: 0.9584, AP: 0.9598\n",
      "Epoch: 083, LOSS: 0.8242, AUC: 0.9584, AP: 0.9597\n",
      "Epoch: 084, LOSS: 0.8180, AUC: 0.9584, AP: 0.9596\n",
      "Epoch: 085, LOSS: 0.8209, AUC: 0.9582, AP: 0.9594\n",
      "Epoch: 086, LOSS: 0.8180, AUC: 0.9584, AP: 0.9594\n",
      "Epoch: 087, LOSS: 0.8293, AUC: 0.9585, AP: 0.9595\n",
      "Epoch: 088, LOSS: 0.8247, AUC: 0.9587, AP: 0.9595\n",
      "Epoch: 089, LOSS: 0.8202, AUC: 0.9587, AP: 0.9595\n",
      "Epoch: 090, LOSS: 0.8283, AUC: 0.9588, AP: 0.9596\n",
      "Epoch: 091, LOSS: 0.8293, AUC: 0.9588, AP: 0.9596\n",
      "Epoch: 092, LOSS: 0.8202, AUC: 0.9587, AP: 0.9594\n",
      "Epoch: 093, LOSS: 0.8175, AUC: 0.9584, AP: 0.9592\n"
     ]
    }
   ],
   "source": [
    "epochs = 400\n",
    "tolerance = 30\n",
    "best_auc = float('-inf')\n",
    "best_ap = float('-inf')\n",
    "num_tol = 0\n",
    "for epoch in range(1,epochs):\n",
    "    loss = train(model1,optimizer1)\n",
    "    loss = float(loss)\n",
    "    \n",
    "    with torch.no_grad():\n",
    "        #valid_pos, valid_neg = data.val_pos_edge_index, data.val_neg_edge_index\n",
    "        auc, ap = test(data.val_pos_edge_index, data.val_neg_edge_index,model1)\n",
    "        if auc<best_auc and ap<best_ap:\n",
    "            tol += 1\n",
    "            if tol>=tolerance:\n",
    "                break\n",
    "        else:\n",
    "            best_auc = auc\n",
    "            best_ap = ap\n",
    "            best_model = model1.state_dict()\n",
    "            tol = 0\n",
    "        print('Epoch: {:03d}, LOSS: {:.4f}, AUC: {:.4f}, AP: {:.4f}'.format(epoch, loss, auc, ap))\n",
    "model1_path = './model/VGAE_best_model_GNAE_newfea_nonorm_'+str(dss_num+1)+'.pt'\n",
    "torch.save(best_model, model1_path)"
   ]
  },
  {
   "cell_type": "code",
   "execution_count": 34,
   "id": "d3b38a25",
   "metadata": {},
   "outputs": [
    {
     "data": {
      "text/plain": [
       "(0.9583521955636034, 0.9591264237720224)"
      ]
     },
     "execution_count": 34,
     "metadata": {},
     "output_type": "execute_result"
    }
   ],
   "source": [
    "model1.load_state_dict(torch.load(model1_path))\n",
    "test(data.val_pos_edge_index, data.val_neg_edge_index,model1)"
   ]
  },
  {
   "cell_type": "code",
   "execution_count": 35,
   "id": "63c1d83e",
   "metadata": {
    "scrolled": true
   },
   "outputs": [
    {
     "data": {
      "text/html": [
       "<div>\n",
       "<style scoped>\n",
       "    .dataframe tbody tr th:only-of-type {\n",
       "        vertical-align: middle;\n",
       "    }\n",
       "\n",
       "    .dataframe tbody tr th {\n",
       "        vertical-align: top;\n",
       "    }\n",
       "\n",
       "    .dataframe thead th {\n",
       "        text-align: right;\n",
       "    }\n",
       "</style>\n",
       "<table border=\"1\" class=\"dataframe\">\n",
       "  <thead>\n",
       "    <tr style=\"text-align: right;\">\n",
       "      <th></th>\n",
       "      <th>id</th>\n",
       "      <th>prob</th>\n",
       "    </tr>\n",
       "  </thead>\n",
       "  <tbody>\n",
       "    <tr>\n",
       "      <th>0</th>\n",
       "      <td>E10559</td>\n",
       "      <td>0.518071</td>\n",
       "    </tr>\n",
       "    <tr>\n",
       "      <th>1</th>\n",
       "      <td>E4849</td>\n",
       "      <td>0.625961</td>\n",
       "    </tr>\n",
       "    <tr>\n",
       "      <th>2</th>\n",
       "      <td>E3964</td>\n",
       "      <td>0.811212</td>\n",
       "    </tr>\n",
       "    <tr>\n",
       "      <th>3</th>\n",
       "      <td>E542</td>\n",
       "      <td>0.544081</td>\n",
       "    </tr>\n",
       "    <tr>\n",
       "      <th>4</th>\n",
       "      <td>E331</td>\n",
       "      <td>0.735138</td>\n",
       "    </tr>\n",
       "    <tr>\n",
       "      <th>...</th>\n",
       "      <td>...</td>\n",
       "      <td>...</td>\n",
       "    </tr>\n",
       "    <tr>\n",
       "      <th>2167</th>\n",
       "      <td>E2524</td>\n",
       "      <td>0.415291</td>\n",
       "    </tr>\n",
       "    <tr>\n",
       "      <th>2168</th>\n",
       "      <td>E4324</td>\n",
       "      <td>0.426177</td>\n",
       "    </tr>\n",
       "    <tr>\n",
       "      <th>2169</th>\n",
       "      <td>E1384</td>\n",
       "      <td>0.928310</td>\n",
       "    </tr>\n",
       "    <tr>\n",
       "      <th>2170</th>\n",
       "      <td>E7582</td>\n",
       "      <td>0.944584</td>\n",
       "    </tr>\n",
       "    <tr>\n",
       "      <th>2171</th>\n",
       "      <td>E5209</td>\n",
       "      <td>0.428700</td>\n",
       "    </tr>\n",
       "  </tbody>\n",
       "</table>\n",
       "<p>2172 rows × 2 columns</p>\n",
       "</div>"
      ],
      "text/plain": [
       "          id      prob\n",
       "0     E10559  0.518071\n",
       "1      E4849  0.625961\n",
       "2      E3964  0.811212\n",
       "3       E542  0.544081\n",
       "4       E331  0.735138\n",
       "...      ...       ...\n",
       "2167   E2524  0.415291\n",
       "2168   E4324  0.426177\n",
       "2169   E1384  0.928310\n",
       "2170   E7582  0.944584\n",
       "2171   E5209  0.428700\n",
       "\n",
       "[2172 rows x 2 columns]"
      ]
     },
     "execution_count": 35,
     "metadata": {},
     "output_type": "execute_result"
    }
   ],
   "source": [
    "z = model1.encode(x, data.train_pos_edge_index)\n",
    "Upload['prob'] = model1.decoder(z,data.test,sigmoid = True).detach().cpu().numpy()\n",
    "Upload"
   ]
  },
  {
   "cell_type": "code",
   "execution_count": 36,
   "id": "9743dd8b",
   "metadata": {},
   "outputs": [],
   "source": [
    "Upload.to_csv('output/GNAE_undirect_best_newfea_nonorm_'+str(dss_num+1)+'.csv',index=False)"
   ]
  },
  {
   "cell_type": "code",
   "execution_count": 37,
   "id": "0f445128",
   "metadata": {},
   "outputs": [
    {
     "data": {
      "text/plain": [
       "(0.8789016872614277, 0.8801290321343768)"
      ]
     },
     "execution_count": 37,
     "metadata": {},
     "output_type": "execute_result"
    }
   ],
   "source": [
    "test(data.val_pos_edge_index, data.val_neg_edge_index,model2)"
   ]
  },
  {
   "cell_type": "code",
   "execution_count": 38,
   "id": "a4a4c2b7",
   "metadata": {
    "scrolled": true
   },
   "outputs": [
    {
     "name": "stdout",
     "output_type": "stream",
     "text": [
      "Epoch: 001, LOSS: 14.2811, AUC: 0.8308, AP: 0.8273\n",
      "Epoch: 002, LOSS: 12.4117, AUC: 0.8075, AP: 0.8064\n",
      "Epoch: 003, LOSS: 10.6135, AUC: 0.8047, AP: 0.8042\n",
      "Epoch: 004, LOSS: 9.2931, AUC: 0.8128, AP: 0.8109\n",
      "Epoch: 005, LOSS: 8.2341, AUC: 0.8276, AP: 0.8236\n",
      "Epoch: 006, LOSS: 6.9023, AUC: 0.8483, AP: 0.8415\n",
      "Epoch: 007, LOSS: 5.8603, AUC: 0.8734, AP: 0.8641\n",
      "Epoch: 008, LOSS: 5.1023, AUC: 0.9013, AP: 0.8901\n",
      "Epoch: 009, LOSS: 4.4143, AUC: 0.9260, AP: 0.9146\n",
      "Epoch: 010, LOSS: 3.7225, AUC: 0.9442, AP: 0.9342\n",
      "Epoch: 011, LOSS: 3.2615, AUC: 0.9534, AP: 0.9460\n",
      "Epoch: 012, LOSS: 2.8611, AUC: 0.9557, AP: 0.9505\n",
      "Epoch: 013, LOSS: 2.5508, AUC: 0.9541, AP: 0.9504\n",
      "Epoch: 014, LOSS: 2.3428, AUC: 0.9511, AP: 0.9479\n",
      "Epoch: 015, LOSS: 2.1475, AUC: 0.9482, AP: 0.9452\n",
      "Epoch: 016, LOSS: 2.0105, AUC: 0.9463, AP: 0.9435\n",
      "Epoch: 017, LOSS: 1.8918, AUC: 0.9452, AP: 0.9425\n",
      "Epoch: 018, LOSS: 1.8127, AUC: 0.9451, AP: 0.9426\n",
      "Epoch: 019, LOSS: 1.7050, AUC: 0.9456, AP: 0.9432\n",
      "Epoch: 020, LOSS: 1.6420, AUC: 0.9464, AP: 0.9440\n",
      "Epoch: 021, LOSS: 1.5320, AUC: 0.9474, AP: 0.9451\n",
      "Epoch: 022, LOSS: 1.4353, AUC: 0.9485, AP: 0.9463\n",
      "Epoch: 023, LOSS: 1.4147, AUC: 0.9492, AP: 0.9472\n",
      "Epoch: 024, LOSS: 1.3659, AUC: 0.9502, AP: 0.9480\n",
      "Epoch: 025, LOSS: 1.3206, AUC: 0.9511, AP: 0.9489\n",
      "Epoch: 026, LOSS: 1.2729, AUC: 0.9520, AP: 0.9495\n",
      "Epoch: 027, LOSS: 1.2572, AUC: 0.9524, AP: 0.9497\n",
      "Epoch: 028, LOSS: 1.2072, AUC: 0.9528, AP: 0.9497\n",
      "Epoch: 029, LOSS: 1.1927, AUC: 0.9529, AP: 0.9497\n",
      "Epoch: 030, LOSS: 1.1905, AUC: 0.9530, AP: 0.9497\n",
      "Epoch: 031, LOSS: 1.1593, AUC: 0.9529, AP: 0.9496\n",
      "Epoch: 032, LOSS: 1.1486, AUC: 0.9527, AP: 0.9495\n",
      "Epoch: 033, LOSS: 1.1208, AUC: 0.9524, AP: 0.9493\n",
      "Epoch: 034, LOSS: 1.1276, AUC: 0.9521, AP: 0.9493\n",
      "Epoch: 035, LOSS: 1.1254, AUC: 0.9518, AP: 0.9492\n",
      "Epoch: 036, LOSS: 1.0960, AUC: 0.9515, AP: 0.9492\n",
      "Epoch: 037, LOSS: 1.0870, AUC: 0.9511, AP: 0.9489\n",
      "Epoch: 038, LOSS: 1.0753, AUC: 0.9508, AP: 0.9487\n",
      "Epoch: 039, LOSS: 1.0651, AUC: 0.9506, AP: 0.9487\n",
      "Epoch: 040, LOSS: 1.0654, AUC: 0.9505, AP: 0.9486\n",
      "Epoch: 041, LOSS: 1.0434, AUC: 0.9504, AP: 0.9486\n"
     ]
    }
   ],
   "source": [
    "epochs = 400\n",
    "tolerance = 30\n",
    "best_auc = float('-inf')\n",
    "best_ap = float('-inf')\n",
    "num_tol = 0\n",
    "for epoch in range(1,epochs):\n",
    "    loss = train(model2,optimizer2)\n",
    "    loss = float(loss)\n",
    "    \n",
    "    with torch.no_grad():\n",
    "        #valid_pos, valid_neg = data.val_pos_edge_index, data.val_neg_edge_index\n",
    "        auc, ap = test(data.val_pos_edge_index, data.val_neg_edge_index,model2)\n",
    "        if auc<best_auc and ap<best_ap:\n",
    "            tol += 1\n",
    "            if tol>=tolerance:\n",
    "                break\n",
    "        else:\n",
    "            best_auc = auc\n",
    "            best_ap = ap\n",
    "            best_model = model2.state_dict()\n",
    "            tol = 0\n",
    "        print('Epoch: {:03d}, LOSS: {:.4f}, AUC: {:.4f}, AP: {:.4f}'.format(epoch, loss, auc, ap))\n",
    "model2_path = './model/VGAE_best_model_VGAE_newfea_nonorm_'+str(dss_num+1)+'.pt'\n",
    "torch.save(best_model, model2_path)"
   ]
  },
  {
   "cell_type": "code",
   "execution_count": 39,
   "id": "921fb3ed",
   "metadata": {},
   "outputs": [
    {
     "data": {
      "text/plain": [
       "(0.9504496196815496, 0.9487248128664978)"
      ]
     },
     "execution_count": 39,
     "metadata": {},
     "output_type": "execute_result"
    }
   ],
   "source": [
    "model2.load_state_dict(torch.load(model2_path))\n",
    "test(data.val_pos_edge_index, data.val_neg_edge_index,model2)"
   ]
  },
  {
   "cell_type": "code",
   "execution_count": 40,
   "id": "2b2addd5",
   "metadata": {},
   "outputs": [
    {
     "data": {
      "text/html": [
       "<div>\n",
       "<style scoped>\n",
       "    .dataframe tbody tr th:only-of-type {\n",
       "        vertical-align: middle;\n",
       "    }\n",
       "\n",
       "    .dataframe tbody tr th {\n",
       "        vertical-align: top;\n",
       "    }\n",
       "\n",
       "    .dataframe thead th {\n",
       "        text-align: right;\n",
       "    }\n",
       "</style>\n",
       "<table border=\"1\" class=\"dataframe\">\n",
       "  <thead>\n",
       "    <tr style=\"text-align: right;\">\n",
       "      <th></th>\n",
       "      <th>id</th>\n",
       "      <th>prob</th>\n",
       "    </tr>\n",
       "  </thead>\n",
       "  <tbody>\n",
       "    <tr>\n",
       "      <th>0</th>\n",
       "      <td>E10559</td>\n",
       "      <td>0.563326</td>\n",
       "    </tr>\n",
       "    <tr>\n",
       "      <th>1</th>\n",
       "      <td>E4849</td>\n",
       "      <td>0.694361</td>\n",
       "    </tr>\n",
       "    <tr>\n",
       "      <th>2</th>\n",
       "      <td>E3964</td>\n",
       "      <td>0.829851</td>\n",
       "    </tr>\n",
       "    <tr>\n",
       "      <th>3</th>\n",
       "      <td>E542</td>\n",
       "      <td>0.533911</td>\n",
       "    </tr>\n",
       "    <tr>\n",
       "      <th>4</th>\n",
       "      <td>E331</td>\n",
       "      <td>0.839077</td>\n",
       "    </tr>\n",
       "    <tr>\n",
       "      <th>...</th>\n",
       "      <td>...</td>\n",
       "      <td>...</td>\n",
       "    </tr>\n",
       "    <tr>\n",
       "      <th>2167</th>\n",
       "      <td>E2524</td>\n",
       "      <td>0.308287</td>\n",
       "    </tr>\n",
       "    <tr>\n",
       "      <th>2168</th>\n",
       "      <td>E4324</td>\n",
       "      <td>0.387113</td>\n",
       "    </tr>\n",
       "    <tr>\n",
       "      <th>2169</th>\n",
       "      <td>E1384</td>\n",
       "      <td>0.916480</td>\n",
       "    </tr>\n",
       "    <tr>\n",
       "      <th>2170</th>\n",
       "      <td>E7582</td>\n",
       "      <td>0.938650</td>\n",
       "    </tr>\n",
       "    <tr>\n",
       "      <th>2171</th>\n",
       "      <td>E5209</td>\n",
       "      <td>0.565158</td>\n",
       "    </tr>\n",
       "  </tbody>\n",
       "</table>\n",
       "<p>2172 rows × 2 columns</p>\n",
       "</div>"
      ],
      "text/plain": [
       "          id      prob\n",
       "0     E10559  0.563326\n",
       "1      E4849  0.694361\n",
       "2      E3964  0.829851\n",
       "3       E542  0.533911\n",
       "4       E331  0.839077\n",
       "...      ...       ...\n",
       "2167   E2524  0.308287\n",
       "2168   E4324  0.387113\n",
       "2169   E1384  0.916480\n",
       "2170   E7582  0.938650\n",
       "2171   E5209  0.565158\n",
       "\n",
       "[2172 rows x 2 columns]"
      ]
     },
     "execution_count": 40,
     "metadata": {},
     "output_type": "execute_result"
    }
   ],
   "source": [
    "z = model2.encode(x, data.train_pos_edge_index)\n",
    "Upload['prob'] = model2.decoder(z,data.test,sigmoid = True).detach().cpu().numpy()\n",
    "Upload"
   ]
  },
  {
   "cell_type": "code",
   "execution_count": 41,
   "id": "acef03af",
   "metadata": {},
   "outputs": [],
   "source": [
    "Upload.to_csv('output/VGAE_undirect_best_newfea_nonorm_'+str(dss_num+1)+'.csv',index=False)"
   ]
  },
  {
   "cell_type": "code",
   "execution_count": 42,
   "id": "be347e02",
   "metadata": {},
   "outputs": [
    {
     "data": {
      "text/html": [
       "<div>\n",
       "<style scoped>\n",
       "    .dataframe tbody tr th:only-of-type {\n",
       "        vertical-align: middle;\n",
       "    }\n",
       "\n",
       "    .dataframe tbody tr th {\n",
       "        vertical-align: top;\n",
       "    }\n",
       "\n",
       "    .dataframe thead th {\n",
       "        text-align: right;\n",
       "    }\n",
       "</style>\n",
       "<table border=\"1\" class=\"dataframe\">\n",
       "  <thead>\n",
       "    <tr style=\"text-align: right;\">\n",
       "      <th></th>\n",
       "      <th>id</th>\n",
       "      <th>prob</th>\n",
       "    </tr>\n",
       "  </thead>\n",
       "  <tbody>\n",
       "    <tr>\n",
       "      <th>0</th>\n",
       "      <td>E10559</td>\n",
       "      <td>0.533156</td>\n",
       "    </tr>\n",
       "    <tr>\n",
       "      <th>1</th>\n",
       "      <td>E4849</td>\n",
       "      <td>0.648761</td>\n",
       "    </tr>\n",
       "    <tr>\n",
       "      <th>2</th>\n",
       "      <td>E3964</td>\n",
       "      <td>0.817425</td>\n",
       "    </tr>\n",
       "    <tr>\n",
       "      <th>3</th>\n",
       "      <td>E542</td>\n",
       "      <td>0.540691</td>\n",
       "    </tr>\n",
       "    <tr>\n",
       "      <th>4</th>\n",
       "      <td>E331</td>\n",
       "      <td>0.769784</td>\n",
       "    </tr>\n",
       "    <tr>\n",
       "      <th>...</th>\n",
       "      <td>...</td>\n",
       "      <td>...</td>\n",
       "    </tr>\n",
       "    <tr>\n",
       "      <th>2167</th>\n",
       "      <td>E2524</td>\n",
       "      <td>0.379623</td>\n",
       "    </tr>\n",
       "    <tr>\n",
       "      <th>2168</th>\n",
       "      <td>E4324</td>\n",
       "      <td>0.413156</td>\n",
       "    </tr>\n",
       "    <tr>\n",
       "      <th>2169</th>\n",
       "      <td>E1384</td>\n",
       "      <td>0.924367</td>\n",
       "    </tr>\n",
       "    <tr>\n",
       "      <th>2170</th>\n",
       "      <td>E7582</td>\n",
       "      <td>0.942606</td>\n",
       "    </tr>\n",
       "    <tr>\n",
       "      <th>2171</th>\n",
       "      <td>E5209</td>\n",
       "      <td>0.474186</td>\n",
       "    </tr>\n",
       "  </tbody>\n",
       "</table>\n",
       "<p>2172 rows × 2 columns</p>\n",
       "</div>"
      ],
      "text/plain": [
       "          id      prob\n",
       "0     E10559  0.533156\n",
       "1      E4849  0.648761\n",
       "2      E3964  0.817425\n",
       "3       E542  0.540691\n",
       "4       E331  0.769784\n",
       "...      ...       ...\n",
       "2167   E2524  0.379623\n",
       "2168   E4324  0.413156\n",
       "2169   E1384  0.924367\n",
       "2170   E7582  0.942606\n",
       "2171   E5209  0.474186\n",
       "\n",
       "[2172 rows x 2 columns]"
      ]
     },
     "execution_count": 42,
     "metadata": {},
     "output_type": "execute_result"
    }
   ],
   "source": [
    "z1 = model1.encode(x, data.train_pos_edge_index)\n",
    "z2 = model2.encode(x, data.train_pos_edge_index)\n",
    "Upload['prob'] = (2*model1.decoder(z1,data.test,sigmoid = True).detach().cpu().numpy()+model2.decoder(z2,data.test,sigmoid = True).detach().cpu().numpy())/3\n",
    "Upload"
   ]
  },
  {
   "cell_type": "code",
   "execution_count": 43,
   "id": "fec92e04",
   "metadata": {},
   "outputs": [],
   "source": [
    "Upload.to_csv('output/Hybrid_undirect_imb_best_newfea_nonorm_'+str(dss_num+1)+'.csv',index=False)"
   ]
  }
 ],
 "metadata": {
  "kernelspec": {
   "display_name": "Python 3 (ipykernel)",
   "language": "python",
   "name": "python3"
  },
  "language_info": {
   "codemirror_mode": {
    "name": "ipython",
    "version": 3
   },
   "file_extension": ".py",
   "mimetype": "text/x-python",
   "name": "python",
   "nbconvert_exporter": "python",
   "pygments_lexer": "ipython3",
   "version": "3.7.16"
  }
 },
 "nbformat": 4,
 "nbformat_minor": 5
}
