{
 "cells": [
  {
   "cell_type": "code",
   "execution_count": 1,
   "id": "0811582f",
   "metadata": {},
   "outputs": [
    {
     "name": "stderr",
     "output_type": "stream",
     "text": [
      "C:\\Users\\caleb\\anaconda3\\envs\\pytorch\\lib\\site-packages\\tqdm\\auto.py:21: TqdmWarning: IProgress not found. Please update jupyter and ipywidgets. See https://ipywidgets.readthedocs.io/en/stable/user_install.html\n",
      "  from .autonotebook import tqdm as notebook_tqdm\n"
     ]
    }
   ],
   "source": [
    "import os.path as osp\n",
    "import pandas as pd\n",
    "import networkx as nx\n",
    "import numpy as np\n",
    "import scipy.sparse as sp\n",
    "\n",
    "import torch\n",
    "import torch.nn as nn\n",
    "import torch.nn.functional as F\n",
    "\n",
    "from torch_geometric.datasets import Planetoid, Coauthor, Amazon\n",
    "from torch_geometric.utils import train_test_split_edges, dense_to_sparse\n",
    "from torch_geometric.nn import GAE, VGAE, APPNP,GCNConv,InnerProductDecoder\n",
    "import torch_geometric.transforms as T\n",
    "from torch_geometric.data import Data\n",
    "\n",
    "import matplotlib.pyplot as plt"
   ]
  },
  {
   "cell_type": "code",
   "execution_count": 3,
   "id": "75ec8b55",
   "metadata": {},
   "outputs": [
    {
     "data": {
      "text/html": [
       "<div>\n",
       "<style scoped>\n",
       "    .dataframe tbody tr th:only-of-type {\n",
       "        vertical-align: middle;\n",
       "    }\n",
       "\n",
       "    .dataframe tbody tr th {\n",
       "        vertical-align: top;\n",
       "    }\n",
       "\n",
       "    .dataframe thead th {\n",
       "        text-align: right;\n",
       "    }\n",
       "</style>\n",
       "<table border=\"1\" class=\"dataframe\">\n",
       "  <thead>\n",
       "    <tr style=\"text-align: right;\">\n",
       "      <th></th>\n",
       "      <th>id</th>\n",
       "      <th>to</th>\n",
       "      <th>from</th>\n",
       "    </tr>\n",
       "  </thead>\n",
       "  <tbody>\n",
       "    <tr>\n",
       "      <th>0</th>\n",
       "      <td>E370</td>\n",
       "      <td>26</td>\n",
       "      <td>317</td>\n",
       "    </tr>\n",
       "    <tr>\n",
       "      <th>1</th>\n",
       "      <td>E667</td>\n",
       "      <td>196</td>\n",
       "      <td>323</td>\n",
       "    </tr>\n",
       "    <tr>\n",
       "      <th>2</th>\n",
       "      <td>E3190</td>\n",
       "      <td>739</td>\n",
       "      <td>468</td>\n",
       "    </tr>\n",
       "    <tr>\n",
       "      <th>3</th>\n",
       "      <td>E848</td>\n",
       "      <td>576</td>\n",
       "      <td>156</td>\n",
       "    </tr>\n",
       "    <tr>\n",
       "      <th>4</th>\n",
       "      <td>E2161</td>\n",
       "      <td>466</td>\n",
       "      <td>199</td>\n",
       "    </tr>\n",
       "  </tbody>\n",
       "</table>\n",
       "</div>"
      ],
      "text/plain": [
       "      id   to  from\n",
       "0   E370   26   317\n",
       "1   E667  196   323\n",
       "2  E3190  739   468\n",
       "3   E848  576   156\n",
       "4  E2161  466   199"
      ]
     },
     "execution_count": 3,
     "metadata": {},
     "output_type": "execute_result"
    }
   ],
   "source": [
    "path = \"hw2_data/\"\n",
    "dss = ['dataset1','dataset2','dataset3'] #datasets\n",
    "datasets = dict()\n",
    "for ds in dss:\n",
    "    datasets[ds] = dict()\n",
    "    datasets[ds]['content'] = pd.read_csv(path+ds+\"/content.csv\",delimiter = '\\t',header = None)\n",
    "    datasets[ds]['train'] = pd.read_csv(path+ds+\"/train.csv\",delimiter = ',')\n",
    "    datasets[ds]['test'] = pd.read_csv(path+ds+\"/test.csv\",delimiter = ',')\n",
    "    datasets[ds]['upload'] = pd.read_csv(path+ds+\"/upload.csv\",delimiter = ',')\n",
    "datasets[dss[2]]['test'].head()"
   ]
  },
  {
   "cell_type": "code",
   "execution_count": 4,
   "id": "26b78e9b",
   "metadata": {},
   "outputs": [
    {
     "name": "stdout",
     "output_type": "stream",
     "text": [
      "dataset1\n",
      "Nodes 2708\n",
      "Attributes for each node:1433\n",
      "Positive edges given: 4324\n",
      "dataset2\n",
      "Nodes 3312\n",
      "Attributes for each node:3703\n",
      "Positive edges given: 3736\n",
      "dataset3\n",
      "Nodes 877\n",
      "Attributes for each node:1703\n",
      "Positive edges given: 1273\n"
     ]
    }
   ],
   "source": [
    "for dss_num in range(3):\n",
    "    Content = datasets[dss[dss_num]]['content']\n",
    "    Train = datasets[dss[dss_num]]['train']\n",
    "    Test = datasets[dss[dss_num]]['test']\n",
    "    Upload = datasets[dss[dss_num]]['upload']\n",
    "    print(dss[dss_num])\n",
    "    print(f'Nodes {Content.shape[0]}')\n",
    "    print(f'Attributes for each node:{Content.shape[1]-1}')\n",
    "    pos = Train[Train['label']==1].shape[0]\n",
    "    print(f'Positive edges given: {pos}')"
   ]
  },
  {
   "cell_type": "code",
   "execution_count": 5,
   "id": "b8039563",
   "metadata": {},
   "outputs": [],
   "source": [
    "#For example:\n",
    "dss_num = 2\n",
    "Content = datasets[dss[dss_num]]['content']\n",
    "Train = datasets[dss[dss_num]]['train']\n",
    "Test = datasets[dss[dss_num]]['test']\n",
    "Upload = datasets[dss[dss_num]]['upload']"
   ]
  },
  {
   "cell_type": "code",
   "execution_count": 6,
   "id": "8855569e",
   "metadata": {},
   "outputs": [],
   "source": [
    "def load_data(content,train, test):\n",
    "    G = nx.Graph()\n",
    "    # for easier split the edges, create 2 graph, 1 with positive edge, the other with given negative edges\n",
    "    G_pos = nx.Graph()\n",
    "    G_neg = nx.Graph()\n",
    "    for i in range(len(content)):\n",
    "        G.add_node(int(content.iloc[i,0]),features = np.array(content.iloc[i,1:]))\n",
    "        # pos and neg\n",
    "        G_pos.add_node(int(content.iloc[i,0]),features = np.array(content.iloc[i,1:]))\n",
    "        G_neg.add_node(int(content.iloc[i,0]),features = np.array(content.iloc[i,1:]))\n",
    "        \n",
    "    for i in range(len(train)):\n",
    "        # Adding nodes into G\n",
    "        '''\n",
    "        if train.loc[i,'from'] not in G:\n",
    "            G.add_node(train.loc[i,'from'],features = graph_node_features_dict[train.loc[i,'from']])\n",
    "        if train.loc[i,'to'] not in G:\n",
    "            G.add_node(train.loc[i,'to'],features = graph_node_features_dict[train.loc[i,'to']])\n",
    "        ''' \n",
    "        # Adding edges\n",
    "        G.add_edge(train.loc[i,'from'],train.loc[i,'to'],label = train.loc[i,'label'])\n",
    "        \n",
    "        # pos and neg\n",
    "        if train.loc[i,'label'] == 0: \n",
    "            G_neg.add_edge(train.loc[i,'from'],train.loc[i,'to'],label = train.loc[i,'label'])\n",
    "        else:\n",
    "            G_pos.add_edge(train.loc[i,'from'],train.loc[i,'to'],label = train.loc[i,'label'])\n",
    "\n",
    "    adj = nx.adjacency_matrix(G,sorted(G.nodes()))\n",
    "    adj_pos = nx.adjacency_matrix(G_pos,sorted(G_pos.nodes()))\n",
    "    adj_neg = nx.adjacency_matrix(G_neg,sorted(G_neg.nodes()))\n",
    "    \n",
    "    features = np.array(\n",
    "        [features for _, features in sorted(G.nodes(data='features'), key=lambda x: x[0])])\n",
    "    #features[:,:1433] = preprocess_features(features[:,:1433])\n",
    "    #features[:,1433:] = preprocess_features(features[:,1433:])\n",
    "    # Skip train,valid,and test mask\n",
    "    \n",
    "    num_features = features.shape[1]\n",
    "    features = torch.FloatTensor(features)\n",
    "    return adj, adj_pos, adj_neg, features, num_features"
   ]
  },
  {
   "cell_type": "code",
   "execution_count": 7,
   "id": "2f8130a5",
   "metadata": {},
   "outputs": [],
   "source": [
    "def preprocess_features(features):\n",
    "    # Row-normalize feature matrix and convert to tuple representation\n",
    "    rowsum = np.array(features.sum(1),dtype = np.float32)\n",
    "    rowsum = (rowsum==0)*1+rowsum\n",
    "    r_inv = np.power(rowsum, -1).flatten()\n",
    "    r_inv[np.isinf(r_inv)] = 0.\n",
    "    r_mat_inv = sp.diags(r_inv)\n",
    "    features = r_mat_inv.dot(features)\n",
    "    return features"
   ]
  },
  {
   "cell_type": "code",
   "execution_count": 8,
   "id": "58968c96",
   "metadata": {},
   "outputs": [],
   "source": [
    "def increase_features(content,train):\n",
    "    G = nx.Graph()\n",
    "    for i in range(len(content)):\n",
    "        G.add_node(int(content.iloc[i,0]),features = np.array(content.iloc[i,1:]))\n",
    "        \n",
    "    # Adding edges\n",
    "    for i in range(len(train)):\n",
    "        # pos and neg\n",
    "        if train.loc[i,'label'] == 1: \n",
    "            G.add_edge(train.loc[i,'from'],train.loc[i,'to'],label = train.loc[i,'label'])\n",
    "            \n",
    "    df = content.copy()\n",
    "    df['pagerank'] = nx.pagerank(G,alpha=0.9).values()\n",
    "    df['pagerank'] = df['pagerank']/np.linalg.norm(df['pagerank'])\n",
    "    \n",
    "    hubs,aut = nx.hits(G)\n",
    "    df['hubs'] = hubs.values()\n",
    "    df['hubs'] = df['hubs']/np.linalg.norm(df['hubs'])\n",
    "    df['aut'] = aut.values()\n",
    "    df['aut'] = df['hubs']/np.linalg.norm(df['aut'])\n",
    "    \n",
    "    \n",
    "    features_name = ['degree','in_degree','out_degree','eigenvec','katz','closeness','info',\n",
    "                     'betweenness','rwbetween','combetween','load','subgraph','harmonic','local_reach',\n",
    "                    'global_reach', 'percolation','order2','trophic','laplacian']\n",
    "    \n",
    "    df[features_name[0]] = nx.degree_centrality(G).values()\n",
    "    #df[features_name[1]] = nx.in_degree_centrality(G).values()\n",
    "    #df[features_name[2]] = nx.out_degree_centrality(G).values()\n",
    "    df[features_name[3]] = nx.eigenvector_centrality(G).values()\n",
    "    #df[features_name[4]] = nx.katz_centrality(G).values()\n",
    "    df[features_name[5]] = nx.closeness_centrality(G).values()\n",
    "    #df[features_name[6]] = nx.information_centrality(G).values()\n",
    "    #df[features_name[7]] = nx.betweenness_centrality(G).values()\n",
    "    #print('finish feature 7')\n",
    "    #df[features_name[8]] = nx.current_flow_betweenness_centrality(G).values()\n",
    "    #df[features_name[9]] = nx.communicability_betweenness_centrality(G).values()\n",
    "    #print('finish feature 9')\n",
    "    df[features_name[10]] = nx.load_centrality(G).values()\n",
    "    print('finish feature 10')\n",
    "    df[features_name[11]] = nx.subgraph_centrality(G).values()\n",
    "    print('finish feature 11')\n",
    "    df[features_name[12]] = nx.harmonic_centrality(G).values()\n",
    "    print('finish feature 12')\n",
    "    #df[features_name[13]] = nx.local_reaching_centrality(G).values()\n",
    "    #print('finish feature 13')\n",
    "    #df[features_name[14]] = nx.global_reaching_centrality(G).values()\n",
    "    #print('finish feature 14')\n",
    "    #df[features_name[15]] = nx.percolation_centrality(G).values()\n",
    "    #print('finish feature 15')\n",
    "    #df[features_name[16]] = nx.second_order_centrality(G).values()\n",
    "    #print('finish feature 16')\n",
    "    #df[features_name[17]] = nx.trophic_levels(G).values()\n",
    "    #print('finish feature 17')\n",
    "    #df[features_name[18]] = nx.laplacian_centrality(G).values()\n",
    "    #print('finish feature 18')\n",
    "    \n",
    "    for fea_num in [0,3,5,10,11,12]:\n",
    "        df[features_name[fea_num]] /= np.linalg.norm(df[features_name[fea_num]])\n",
    "    \n",
    "    return df"
   ]
  },
  {
   "cell_type": "code",
   "execution_count": 9,
   "id": "76a10410",
   "metadata": {},
   "outputs": [
    {
     "data": {
      "text/plain": [
       "Data(x=[3312, 3703], edge_index=[2, 7298], test=[2, 1886])"
      ]
     },
     "execution_count": 9,
     "metadata": {},
     "output_type": "execute_result"
    }
   ],
   "source": [
    "newfea = False\n",
    "if newfea:\n",
    "    Content_mod = increase_features(Content,Train)\n",
    "    g, pos, neg, features, num_features = load_data(Content_mod,Train,Test)\n",
    "else:\n",
    "    g, pos, neg, features, num_features = load_data(Content,Train,Test)\n",
    "A = g.toarray()\n",
    "edge_index,_ = dense_to_sparse(torch.tensor(A))\n",
    "Apos = pos.toarray()\n",
    "edge_index_pos,_ = dense_to_sparse(torch.tensor(Apos))\n",
    "Aneg = neg.toarray()\n",
    "edge_index_neg,_ = dense_to_sparse(torch.tensor(Aneg))\n",
    "data = Data(edge_index=edge_index_pos,x=features.to(torch.float),test = torch.tensor([Test['from'],Test['to']]))\n",
    "data"
   ]
  },
  {
   "cell_type": "code",
   "execution_count": 10,
   "id": "8112ee26",
   "metadata": {},
   "outputs": [],
   "source": [
    "dev = torch.device('cuda' if torch.cuda.is_available() else 'cpu')\n",
    "channels = 256"
   ]
  },
  {
   "cell_type": "code",
   "execution_count": 11,
   "id": "ac611533",
   "metadata": {},
   "outputs": [
    {
     "name": "stderr",
     "output_type": "stream",
     "text": [
      "C:\\Users\\caleb\\anaconda3\\envs\\pytorch\\lib\\site-packages\\torch_geometric\\deprecation.py:12: UserWarning: 'train_test_split_edges' is deprecated, use 'transforms.RandomLinkSplit' instead\n",
      "  warnings.warn(out)\n"
     ]
    }
   ],
   "source": [
    "train_rate = 0.9\n",
    "val_ratio = (1-train_rate)#/3\n",
    "test_ratio = 0#(1-train_rate) / 3 * 2\n",
    "data = train_test_split_edges(data.to(dev), val_ratio=val_ratio, test_ratio=0)\n",
    "               #,train_pos_edge_index = edge_index_pos,neg = edge_index_neg,test = edge_index_test)\n",
    "data = T.NormalizeFeatures()(data) # Should not do this normalization for new features"
   ]
  },
  {
   "cell_type": "code",
   "execution_count": 12,
   "id": "79d10b7e",
   "metadata": {},
   "outputs": [],
   "source": [
    "model_used = 'Hybrid'\n",
    "scaling_factor = 1.8\n",
    "class Encoder(torch.nn.Module):\n",
    "    def __init__(self, in_channels, out_channels, edge_index,model_used = 'GNAE'):\n",
    "        super(Encoder, self).__init__()\n",
    "        self.linear1 = nn.Linear(in_channels, out_channels)\n",
    "        self.linear2 = nn.Linear(in_channels, out_channels)\n",
    "        self.propagate = APPNP(K=2, alpha=0) # Propose: 10, 0.15\n",
    "        self.model_used = model_used\n",
    "\n",
    "    def forward(self, x, edge_index,not_prop=0):\n",
    "        if self.model_used  == 'GNAE':\n",
    "            x = self.linear1(x)\n",
    "            x = F.normalize(x,p=2,dim=1)  * scaling_factor\n",
    "            x = self.propagate(x, edge_index)\n",
    "            return x\n",
    "\n",
    "        if self.model_used  == 'VGNAE':\n",
    "            x_ = self.linear1(x)\n",
    "            x_ = self.propagate(x_, edge_index)\n",
    "\n",
    "            x = self.linear2(x)\n",
    "            x = F.normalize(x,p=2,dim=1) * scaling_factor\n",
    "            x = self.propagate(x, edge_index)\n",
    "            return x, x_\n",
    "\n",
    "        return x"
   ]
  },
  {
   "cell_type": "code",
   "execution_count": 13,
   "id": "5b8f0f89",
   "metadata": {},
   "outputs": [],
   "source": [
    "def train(model,optimizer):\n",
    "    model.train()\n",
    "    optimizer.zero_grad()\n",
    "    z  = model.encode(x, train_pos_edge_index)\n",
    "    loss = model.recon_loss(z, train_pos_edge_index)\n",
    "    if model_used  in ['VGNAE']:\n",
    "        loss = loss + (1 / data.num_nodes) * model.kl_loss()\n",
    "    loss.backward()\n",
    "    optimizer.step()\n",
    "    return loss"
   ]
  },
  {
   "cell_type": "code",
   "execution_count": 14,
   "id": "f468ee94",
   "metadata": {},
   "outputs": [],
   "source": [
    "def test(pos_edge_index, neg_edge_index,model):\n",
    "    model.eval()\n",
    "    with torch.no_grad():\n",
    "        z = model.encode(x, train_pos_edge_index)\n",
    "    return model.test(z, pos_edge_index, neg_edge_index)"
   ]
  },
  {
   "cell_type": "code",
   "execution_count": 15,
   "id": "2332a3db",
   "metadata": {
    "scrolled": true
   },
   "outputs": [],
   "source": [
    "if model_used  == 'GNAE':   \n",
    "    model = GAE(Encoder(data.x.size()[1], channels, data.train_pos_edge_index,model_used = 'GNAE')).to(dev)\n",
    "    optimizer = torch.optim.Adam(model.parameters(), lr=0.005)\n",
    "if model_used  == 'VGNAE':\n",
    "    model = VGAE(Encoder(data.x.size()[1],channels, data.train_pos_edge_index,model_used = 'VGNAE')).to(dev)\n",
    "    optimizer = torch.optim.Adam(model.parameters(), lr=0.005)\n",
    "if model_used == 'Hybrid':\n",
    "    model1 = GAE(Encoder(data.x.size()[1], channels, data.train_pos_edge_index,model_used = 'GNAE')).to(dev)\n",
    "    model2 = VGAE(Encoder(data.x.size()[1],channels, data.train_pos_edge_index,model_used = 'VGNAE')).to(dev)\n",
    "    optimizer1 = torch.optim.Adam(model1.parameters(), lr=0.005)\n",
    "    optimizer2 = torch.optim.Adam(model2.parameters(), lr=0.005)\n",
    "#model = VGAE(VariationalGCNEncoder(data.x.size()[1],channels)).to(dev)"
   ]
  },
  {
   "cell_type": "code",
   "execution_count": 16,
   "id": "222e977c",
   "metadata": {},
   "outputs": [],
   "source": [
    "data.train_mask = data.val_mask = data.test_mask = data.y = None\n",
    "x, train_pos_edge_index = data.x.to(dev), data.train_pos_edge_index.to(dev)"
   ]
  },
  {
   "cell_type": "code",
   "execution_count": 17,
   "id": "2771c139",
   "metadata": {},
   "outputs": [
    {
     "data": {
      "text/plain": [
       "(0.6726670339305252, 0.7029324563602246)"
      ]
     },
     "execution_count": 17,
     "metadata": {},
     "output_type": "execute_result"
    }
   ],
   "source": [
    "test(data.val_pos_edge_index, data.val_neg_edge_index,model1)"
   ]
  },
  {
   "cell_type": "code",
   "execution_count": 18,
   "id": "ddfe7697",
   "metadata": {
    "scrolled": true
   },
   "outputs": [
    {
     "name": "stdout",
     "output_type": "stream",
     "text": [
      "Epoch: 001, LOSS: 3.0478, AUC: 0.7723, AP: 0.7878\n",
      "Epoch: 002, LOSS: 2.2384, AUC: 0.8326, AP: 0.8428\n",
      "Epoch: 003, LOSS: 1.9324, AUC: 0.9010, AP: 0.9074\n",
      "Epoch: 004, LOSS: 1.5867, AUC: 0.9397, AP: 0.9433\n",
      "Epoch: 005, LOSS: 1.3662, AUC: 0.9525, AP: 0.9537\n",
      "Epoch: 006, LOSS: 1.2310, AUC: 0.9591, AP: 0.9592\n",
      "Epoch: 007, LOSS: 1.1065, AUC: 0.9605, AP: 0.9604\n",
      "Epoch: 008, LOSS: 1.0886, AUC: 0.9616, AP: 0.9613\n",
      "Epoch: 009, LOSS: 1.0971, AUC: 0.9638, AP: 0.9638\n",
      "Epoch: 010, LOSS: 1.0530, AUC: 0.9649, AP: 0.9654\n",
      "Epoch: 011, LOSS: 0.9821, AUC: 0.9651, AP: 0.9659\n",
      "Epoch: 012, LOSS: 0.9394, AUC: 0.9653, AP: 0.9661\n",
      "Epoch: 013, LOSS: 0.9282, AUC: 0.9655, AP: 0.9661\n",
      "Epoch: 014, LOSS: 0.9424, AUC: 0.9655, AP: 0.9661\n",
      "Epoch: 015, LOSS: 0.9516, AUC: 0.9656, AP: 0.9661\n",
      "Epoch: 016, LOSS: 0.9310, AUC: 0.9655, AP: 0.9661\n",
      "Epoch: 017, LOSS: 0.9097, AUC: 0.9653, AP: 0.9660\n",
      "Epoch: 018, LOSS: 0.8833, AUC: 0.9654, AP: 0.9661\n",
      "Epoch: 019, LOSS: 0.8696, AUC: 0.9659, AP: 0.9666\n",
      "Epoch: 020, LOSS: 0.8725, AUC: 0.9663, AP: 0.9670\n",
      "Epoch: 021, LOSS: 0.8740, AUC: 0.9667, AP: 0.9675\n",
      "Epoch: 022, LOSS: 0.8738, AUC: 0.9670, AP: 0.9679\n",
      "Epoch: 023, LOSS: 0.8767, AUC: 0.9674, AP: 0.9683\n",
      "Epoch: 024, LOSS: 0.8716, AUC: 0.9675, AP: 0.9687\n",
      "Epoch: 025, LOSS: 0.8684, AUC: 0.9678, AP: 0.9690\n",
      "Epoch: 026, LOSS: 0.8542, AUC: 0.9680, AP: 0.9692\n",
      "Epoch: 027, LOSS: 0.8500, AUC: 0.9684, AP: 0.9696\n",
      "Epoch: 028, LOSS: 0.8385, AUC: 0.9688, AP: 0.9698\n",
      "Epoch: 029, LOSS: 0.8455, AUC: 0.9692, AP: 0.9701\n",
      "Epoch: 030, LOSS: 0.8518, AUC: 0.9695, AP: 0.9704\n",
      "Epoch: 031, LOSS: 0.8404, AUC: 0.9698, AP: 0.9708\n",
      "Epoch: 032, LOSS: 0.8495, AUC: 0.9703, AP: 0.9712\n",
      "Epoch: 033, LOSS: 0.8351, AUC: 0.9708, AP: 0.9717\n",
      "Epoch: 034, LOSS: 0.8403, AUC: 0.9712, AP: 0.9722\n",
      "Epoch: 035, LOSS: 0.8312, AUC: 0.9715, AP: 0.9726\n",
      "Epoch: 036, LOSS: 0.8377, AUC: 0.9720, AP: 0.9730\n",
      "Epoch: 037, LOSS: 0.8312, AUC: 0.9723, AP: 0.9733\n",
      "Epoch: 038, LOSS: 0.8293, AUC: 0.9725, AP: 0.9735\n",
      "Epoch: 039, LOSS: 0.8267, AUC: 0.9728, AP: 0.9737\n",
      "Epoch: 040, LOSS: 0.8273, AUC: 0.9731, AP: 0.9740\n",
      "Epoch: 041, LOSS: 0.8296, AUC: 0.9734, AP: 0.9743\n",
      "Epoch: 042, LOSS: 0.8278, AUC: 0.9737, AP: 0.9745\n",
      "Epoch: 043, LOSS: 0.8246, AUC: 0.9740, AP: 0.9748\n",
      "Epoch: 044, LOSS: 0.8190, AUC: 0.9744, AP: 0.9751\n",
      "Epoch: 045, LOSS: 0.8284, AUC: 0.9747, AP: 0.9754\n",
      "Epoch: 046, LOSS: 0.8200, AUC: 0.9751, AP: 0.9757\n",
      "Epoch: 047, LOSS: 0.8135, AUC: 0.9753, AP: 0.9760\n",
      "Epoch: 048, LOSS: 0.8206, AUC: 0.9756, AP: 0.9763\n",
      "Epoch: 049, LOSS: 0.8169, AUC: 0.9758, AP: 0.9764\n",
      "Epoch: 050, LOSS: 0.8149, AUC: 0.9760, AP: 0.9766\n",
      "Epoch: 051, LOSS: 0.8159, AUC: 0.9762, AP: 0.9768\n",
      "Epoch: 052, LOSS: 0.8128, AUC: 0.9763, AP: 0.9769\n",
      "Epoch: 053, LOSS: 0.8095, AUC: 0.9765, AP: 0.9770\n",
      "Epoch: 054, LOSS: 0.8151, AUC: 0.9767, AP: 0.9772\n",
      "Epoch: 055, LOSS: 0.8194, AUC: 0.9767, AP: 0.9772\n",
      "Epoch: 056, LOSS: 0.8149, AUC: 0.9769, AP: 0.9773\n",
      "Epoch: 057, LOSS: 0.8132, AUC: 0.9772, AP: 0.9775\n",
      "Epoch: 058, LOSS: 0.8128, AUC: 0.9774, AP: 0.9777\n",
      "Epoch: 059, LOSS: 0.8061, AUC: 0.9777, AP: 0.9779\n",
      "Epoch: 060, LOSS: 0.8099, AUC: 0.9778, AP: 0.9781\n",
      "Epoch: 061, LOSS: 0.8089, AUC: 0.9780, AP: 0.9783\n",
      "Epoch: 062, LOSS: 0.8028, AUC: 0.9782, AP: 0.9786\n",
      "Epoch: 063, LOSS: 0.8113, AUC: 0.9783, AP: 0.9787\n",
      "Epoch: 064, LOSS: 0.8049, AUC: 0.9784, AP: 0.9789\n",
      "Epoch: 065, LOSS: 0.8056, AUC: 0.9784, AP: 0.9789\n",
      "Epoch: 066, LOSS: 0.8022, AUC: 0.9785, AP: 0.9789\n",
      "Epoch: 067, LOSS: 0.7989, AUC: 0.9786, AP: 0.9790\n",
      "Epoch: 068, LOSS: 0.8030, AUC: 0.9787, AP: 0.9791\n",
      "Epoch: 069, LOSS: 0.8110, AUC: 0.9788, AP: 0.9792\n",
      "Epoch: 070, LOSS: 0.8008, AUC: 0.9788, AP: 0.9792\n",
      "Epoch: 071, LOSS: 0.7968, AUC: 0.9789, AP: 0.9793\n",
      "Epoch: 072, LOSS: 0.8019, AUC: 0.9790, AP: 0.9794\n",
      "Epoch: 073, LOSS: 0.8001, AUC: 0.9791, AP: 0.9795\n",
      "Epoch: 074, LOSS: 0.8028, AUC: 0.9792, AP: 0.9796\n",
      "Epoch: 075, LOSS: 0.7996, AUC: 0.9792, AP: 0.9796\n",
      "Epoch: 076, LOSS: 0.7942, AUC: 0.9792, AP: 0.9796\n",
      "Epoch: 077, LOSS: 0.7973, AUC: 0.9793, AP: 0.9797\n",
      "Epoch: 078, LOSS: 0.8003, AUC: 0.9792, AP: 0.9796\n",
      "Epoch: 079, LOSS: 0.7918, AUC: 0.9792, AP: 0.9797\n",
      "Epoch: 080, LOSS: 0.8032, AUC: 0.9791, AP: 0.9795\n",
      "Epoch: 081, LOSS: 0.7956, AUC: 0.9791, AP: 0.9796\n",
      "Epoch: 082, LOSS: 0.7946, AUC: 0.9791, AP: 0.9796\n",
      "Epoch: 083, LOSS: 0.8015, AUC: 0.9792, AP: 0.9797\n",
      "Epoch: 084, LOSS: 0.7993, AUC: 0.9792, AP: 0.9797\n",
      "Epoch: 085, LOSS: 0.7944, AUC: 0.9791, AP: 0.9797\n",
      "Epoch: 086, LOSS: 0.7969, AUC: 0.9790, AP: 0.9796\n",
      "Epoch: 087, LOSS: 0.7922, AUC: 0.9790, AP: 0.9796\n",
      "Epoch: 088, LOSS: 0.7895, AUC: 0.9790, AP: 0.9796\n",
      "Epoch: 089, LOSS: 0.7924, AUC: 0.9789, AP: 0.9795\n",
      "Epoch: 090, LOSS: 0.7947, AUC: 0.9789, AP: 0.9796\n",
      "Epoch: 091, LOSS: 0.7895, AUC: 0.9788, AP: 0.9795\n",
      "Epoch: 092, LOSS: 0.7923, AUC: 0.9788, AP: 0.9795\n",
      "Epoch: 093, LOSS: 0.7909, AUC: 0.9788, AP: 0.9796\n",
      "Epoch: 094, LOSS: 0.7892, AUC: 0.9789, AP: 0.9797\n",
      "Epoch: 095, LOSS: 0.7932, AUC: 0.9788, AP: 0.9797\n",
      "Epoch: 096, LOSS: 0.7931, AUC: 0.9789, AP: 0.9798\n",
      "Epoch: 097, LOSS: 0.7810, AUC: 0.9788, AP: 0.9797\n",
      "Epoch: 098, LOSS: 0.7867, AUC: 0.9788, AP: 0.9797\n",
      "Epoch: 099, LOSS: 0.7852, AUC: 0.9787, AP: 0.9797\n",
      "Epoch: 100, LOSS: 0.7906, AUC: 0.9787, AP: 0.9796\n",
      "Epoch: 101, LOSS: 0.7882, AUC: 0.9786, AP: 0.9796\n",
      "Epoch: 102, LOSS: 0.7857, AUC: 0.9785, AP: 0.9795\n",
      "Epoch: 103, LOSS: 0.7862, AUC: 0.9784, AP: 0.9795\n",
      "Epoch: 104, LOSS: 0.7872, AUC: 0.9782, AP: 0.9794\n",
      "Epoch: 105, LOSS: 0.7816, AUC: 0.9781, AP: 0.9793\n",
      "Epoch: 106, LOSS: 0.7809, AUC: 0.9781, AP: 0.9794\n",
      "Epoch: 107, LOSS: 0.7844, AUC: 0.9781, AP: 0.9794\n",
      "Epoch: 108, LOSS: 0.7876, AUC: 0.9781, AP: 0.9794\n",
      "Epoch: 109, LOSS: 0.7806, AUC: 0.9782, AP: 0.9796\n",
      "Epoch: 110, LOSS: 0.7900, AUC: 0.9781, AP: 0.9795\n",
      "Epoch: 111, LOSS: 0.7872, AUC: 0.9780, AP: 0.9795\n",
      "Epoch: 112, LOSS: 0.7851, AUC: 0.9779, AP: 0.9794\n",
      "Epoch: 113, LOSS: 0.7834, AUC: 0.9776, AP: 0.9793\n",
      "Epoch: 114, LOSS: 0.7812, AUC: 0.9775, AP: 0.9793\n",
      "Epoch: 115, LOSS: 0.7852, AUC: 0.9774, AP: 0.9792\n",
      "Epoch: 116, LOSS: 0.7865, AUC: 0.9773, AP: 0.9792\n",
      "Epoch: 117, LOSS: 0.7877, AUC: 0.9771, AP: 0.9791\n",
      "Epoch: 118, LOSS: 0.7768, AUC: 0.9770, AP: 0.9791\n",
      "Epoch: 119, LOSS: 0.7834, AUC: 0.9770, AP: 0.9791\n",
      "Epoch: 120, LOSS: 0.7819, AUC: 0.9769, AP: 0.9791\n",
      "Epoch: 121, LOSS: 0.7817, AUC: 0.9768, AP: 0.9790\n",
      "Epoch: 122, LOSS: 0.7759, AUC: 0.9766, AP: 0.9790\n",
      "Epoch: 123, LOSS: 0.7817, AUC: 0.9765, AP: 0.9789\n",
      "Epoch: 124, LOSS: 0.7747, AUC: 0.9764, AP: 0.9789\n",
      "Epoch: 125, LOSS: 0.7760, AUC: 0.9762, AP: 0.9788\n"
     ]
    }
   ],
   "source": [
    "epochs = 400\n",
    "tolerance = 30 #Proposed: 50\n",
    "best_auc = float('-inf')\n",
    "best_ap = float('-inf')\n",
    "num_tol = 0\n",
    "auc_list = []\n",
    "ap_list = []\n",
    "loss_list = []\n",
    "for epoch in range(1,epochs):\n",
    "    loss = train(model1,optimizer1)\n",
    "    loss = float(loss)\n",
    "    \n",
    "    with torch.no_grad():\n",
    "        #valid_pos, valid_neg = data.val_pos_edge_index, data.val_neg_edge_index\n",
    "        auc, ap = test(data.val_pos_edge_index, data.val_neg_edge_index,model1)\n",
    "        if auc<best_auc and ap<best_ap:\n",
    "            tol += 1\n",
    "            if tol>=tolerance:\n",
    "                break\n",
    "        else:\n",
    "            best_auc = auc\n",
    "            best_ap = ap\n",
    "            best_model = model1.state_dict()\n",
    "            tol = 0\n",
    "            \n",
    "        auc_list.append(auc)\n",
    "        ap_list.append(ap)\n",
    "        loss_list.append(loss)\n",
    "        print('Epoch: {:03d}, LOSS: {:.4f}, AUC: {:.4f}, AP: {:.4f}'.format(epoch, loss, auc, ap))\n",
    "if newfea:\n",
    "    model1_path = './model/VGAE_best_model_GNAE_newfea_'+str(dss_num+1)+'.pt'\n",
    "else:\n",
    "    model1_path = './model/VGAE_best_model_GNAE_'+str(dss_num+1)+'.pt'\n",
    "torch.save(best_model, model1_path)"
   ]
  },
  {
   "cell_type": "code",
   "execution_count": 19,
   "id": "d3b38a25",
   "metadata": {},
   "outputs": [
    {
     "data": {
      "text/plain": [
       "(0.9761562992217628, 0.9787382136997899)"
      ]
     },
     "execution_count": 19,
     "metadata": {},
     "output_type": "execute_result"
    }
   ],
   "source": [
    "model1.load_state_dict(torch.load(model1_path))\n",
    "test(data.val_pos_edge_index, data.val_neg_edge_index,model1)"
   ]
  },
  {
   "cell_type": "code",
   "execution_count": 20,
   "id": "63c1d83e",
   "metadata": {
    "scrolled": true
   },
   "outputs": [
    {
     "data": {
      "text/html": [
       "<div>\n",
       "<style scoped>\n",
       "    .dataframe tbody tr th:only-of-type {\n",
       "        vertical-align: middle;\n",
       "    }\n",
       "\n",
       "    .dataframe tbody tr th {\n",
       "        vertical-align: top;\n",
       "    }\n",
       "\n",
       "    .dataframe thead th {\n",
       "        text-align: right;\n",
       "    }\n",
       "</style>\n",
       "<table border=\"1\" class=\"dataframe\">\n",
       "  <thead>\n",
       "    <tr style=\"text-align: right;\">\n",
       "      <th></th>\n",
       "      <th>id</th>\n",
       "      <th>prob</th>\n",
       "    </tr>\n",
       "  </thead>\n",
       "  <tbody>\n",
       "    <tr>\n",
       "      <th>0</th>\n",
       "      <td>E3064</td>\n",
       "      <td>0.876610</td>\n",
       "    </tr>\n",
       "    <tr>\n",
       "      <th>1</th>\n",
       "      <td>E298</td>\n",
       "      <td>0.884169</td>\n",
       "    </tr>\n",
       "    <tr>\n",
       "      <th>2</th>\n",
       "      <td>E3512</td>\n",
       "      <td>0.985739</td>\n",
       "    </tr>\n",
       "    <tr>\n",
       "      <th>3</th>\n",
       "      <td>E5670</td>\n",
       "      <td>0.998704</td>\n",
       "    </tr>\n",
       "    <tr>\n",
       "      <th>4</th>\n",
       "      <td>E5005</td>\n",
       "      <td>0.427851</td>\n",
       "    </tr>\n",
       "    <tr>\n",
       "      <th>...</th>\n",
       "      <td>...</td>\n",
       "      <td>...</td>\n",
       "    </tr>\n",
       "    <tr>\n",
       "      <th>1881</th>\n",
       "      <td>E9179</td>\n",
       "      <td>0.620991</td>\n",
       "    </tr>\n",
       "    <tr>\n",
       "      <th>1882</th>\n",
       "      <td>E5003</td>\n",
       "      <td>0.962312</td>\n",
       "    </tr>\n",
       "    <tr>\n",
       "      <th>1883</th>\n",
       "      <td>E5081</td>\n",
       "      <td>0.472737</td>\n",
       "    </tr>\n",
       "    <tr>\n",
       "      <th>1884</th>\n",
       "      <td>E4705</td>\n",
       "      <td>0.872146</td>\n",
       "    </tr>\n",
       "    <tr>\n",
       "      <th>1885</th>\n",
       "      <td>E1012</td>\n",
       "      <td>0.510516</td>\n",
       "    </tr>\n",
       "  </tbody>\n",
       "</table>\n",
       "<p>1886 rows × 2 columns</p>\n",
       "</div>"
      ],
      "text/plain": [
       "         id      prob\n",
       "0     E3064  0.876610\n",
       "1      E298  0.884169\n",
       "2     E3512  0.985739\n",
       "3     E5670  0.998704\n",
       "4     E5005  0.427851\n",
       "...     ...       ...\n",
       "1881  E9179  0.620991\n",
       "1882  E5003  0.962312\n",
       "1883  E5081  0.472737\n",
       "1884  E4705  0.872146\n",
       "1885  E1012  0.510516\n",
       "\n",
       "[1886 rows x 2 columns]"
      ]
     },
     "execution_count": 20,
     "metadata": {},
     "output_type": "execute_result"
    }
   ],
   "source": [
    "z = model1.encode(x, data.train_pos_edge_index)\n",
    "Upload['prob'] = model1.decoder(z,data.test,sigmoid = True).detach().cpu().numpy()\n",
    "Upload"
   ]
  },
  {
   "cell_type": "code",
   "execution_count": 21,
   "id": "9743dd8b",
   "metadata": {},
   "outputs": [],
   "source": [
    "if newfea: \n",
    "    Upload.to_csv('output/GNAE_undirect_best_newfea_'+str(dss_num+1)+'.csv',index=False)\n",
    "else:\n",
    "    Upload.to_csv('output/GNAE_undirect_best_'+str(dss_num+1)+'.csv',index=False)"
   ]
  },
  {
   "cell_type": "code",
   "execution_count": 22,
   "id": "2ca860f5",
   "metadata": {},
   "outputs": [
    {
     "data": {
      "image/png": "[encoded data removed]",
      "text/plain": [
       "<Figure size 640x480 with 1 Axes>"
      ]
     },
     "metadata": {},
     "output_type": "display_data"
    },
    {
     "data": {
      "image/png": "[encoded data removed]",
      "text/plain": [
       "<Figure size 640x480 with 1 Axes>"
      ]
     },
     "metadata": {},
     "output_type": "display_data"
    }
   ],
   "source": [
    "plt.plot(np.array(loss_list),'r',label='loss')\n",
    "plt.xlabel('Epochs')\n",
    "if newfea:\n",
    "    title = 'Loss of GNAE with additional features on dataset'+str(dss_num+1)\n",
    "else:\n",
    "    title = 'Loss of GNAE on dataset'+str(dss_num+1)\n",
    "plt.title(title)\n",
    "plt.savefig('./plot/'+title+'.png')\n",
    "plt.show()\n",
    "\n",
    "plt.plot(np.array(auc_list),'b',label='AUC')\n",
    "plt.plot(np.array(ap_list),'g',label='AP')\n",
    "plt.legend()\n",
    "plt.xlabel('Epochs')\n",
    "if newfea:\n",
    "    title = 'Evaluation on valid data of GNAE on dataset'+str(dss_num+1)+ ' with additional features'\n",
    "else:\n",
    "    title = 'Evaluation on valid data of GNAE on dataset'+str(dss_num+1)\n",
    "\n",
    "plt.title(title)\n",
    "plt.savefig('./plot/'+title+'.png')\n",
    "plt.show()"
   ]
  },
  {
   "cell_type": "code",
   "execution_count": 23,
   "id": "0f445128",
   "metadata": {},
   "outputs": [
    {
     "data": {
      "text/plain": [
       "(0.6722713200549344, 0.7026252212496276)"
      ]
     },
     "execution_count": 23,
     "metadata": {},
     "output_type": "execute_result"
    }
   ],
   "source": [
    "test(data.val_pos_edge_index, data.val_neg_edge_index,model2)"
   ]
  },
  {
   "cell_type": "code",
   "execution_count": 24,
   "id": "a4a4c2b7",
   "metadata": {
    "scrolled": true
   },
   "outputs": [
    {
     "name": "stdout",
     "output_type": "stream",
     "text": [
      "Epoch: 001, LOSS: 14.5741, AUC: 0.6769, AP: 0.7067\n",
      "Epoch: 002, LOSS: 14.6123, AUC: 0.6806, AP: 0.7096\n",
      "Epoch: 003, LOSS: 14.2025, AUC: 0.6831, AP: 0.7116\n",
      "Epoch: 004, LOSS: 14.3752, AUC: 0.6855, AP: 0.7136\n",
      "Epoch: 005, LOSS: 13.8773, AUC: 0.6875, AP: 0.7153\n",
      "Epoch: 006, LOSS: 13.4710, AUC: 0.6888, AP: 0.7163\n",
      "Epoch: 007, LOSS: 13.4870, AUC: 0.6901, AP: 0.7173\n",
      "Epoch: 008, LOSS: 13.3155, AUC: 0.6912, AP: 0.7183\n",
      "Epoch: 009, LOSS: 12.8912, AUC: 0.6923, AP: 0.7193\n",
      "Epoch: 010, LOSS: 13.0583, AUC: 0.6934, AP: 0.7202\n",
      "Epoch: 011, LOSS: 12.7520, AUC: 0.6945, AP: 0.7209\n",
      "Epoch: 012, LOSS: 12.6495, AUC: 0.6956, AP: 0.7220\n",
      "Epoch: 013, LOSS: 12.5047, AUC: 0.6967, AP: 0.7230\n",
      "Epoch: 014, LOSS: 12.5563, AUC: 0.6980, AP: 0.7241\n",
      "Epoch: 015, LOSS: 12.4603, AUC: 0.6996, AP: 0.7254\n",
      "Epoch: 016, LOSS: 11.8969, AUC: 0.7009, AP: 0.7264\n",
      "Epoch: 017, LOSS: 11.7043, AUC: 0.7024, AP: 0.7275\n",
      "Epoch: 018, LOSS: 11.6915, AUC: 0.7041, AP: 0.7289\n",
      "Epoch: 019, LOSS: 11.4808, AUC: 0.7060, AP: 0.7308\n",
      "Epoch: 020, LOSS: 11.4327, AUC: 0.7077, AP: 0.7322\n",
      "Epoch: 021, LOSS: 11.1398, AUC: 0.7099, AP: 0.7339\n",
      "Epoch: 022, LOSS: 10.9209, AUC: 0.7123, AP: 0.7359\n",
      "Epoch: 023, LOSS: 10.9519, AUC: 0.7149, AP: 0.7379\n",
      "Epoch: 024, LOSS: 10.8862, AUC: 0.7176, AP: 0.7402\n",
      "Epoch: 025, LOSS: 10.8293, AUC: 0.7212, AP: 0.7432\n",
      "Epoch: 026, LOSS: 10.3279, AUC: 0.7254, AP: 0.7467\n",
      "Epoch: 027, LOSS: 10.2575, AUC: 0.7299, AP: 0.7506\n",
      "Epoch: 028, LOSS: 9.9765, AUC: 0.7353, AP: 0.7551\n",
      "Epoch: 029, LOSS: 10.1744, AUC: 0.7418, AP: 0.7606\n",
      "Epoch: 030, LOSS: 9.6725, AUC: 0.7493, AP: 0.7670\n",
      "Epoch: 031, LOSS: 9.2850, AUC: 0.7591, AP: 0.7755\n",
      "Epoch: 032, LOSS: 9.4858, AUC: 0.7706, AP: 0.7851\n",
      "Epoch: 033, LOSS: 9.3957, AUC: 0.7848, AP: 0.7976\n",
      "Epoch: 034, LOSS: 9.2009, AUC: 0.8015, AP: 0.8119\n",
      "Epoch: 035, LOSS: 9.0534, AUC: 0.8236, AP: 0.8314\n",
      "Epoch: 036, LOSS: 8.9209, AUC: 0.8522, AP: 0.8573\n",
      "Epoch: 037, LOSS: 8.3560, AUC: 0.8882, AP: 0.8911\n",
      "Epoch: 038, LOSS: 8.1546, AUC: 0.9279, AP: 0.9280\n",
      "Epoch: 039, LOSS: 7.9900, AUC: 0.9580, AP: 0.9572\n",
      "Epoch: 040, LOSS: 7.5682, AUC: 0.9678, AP: 0.9673\n",
      "Epoch: 041, LOSS: 7.1343, AUC: 0.9662, AP: 0.9671\n",
      "Epoch: 042, LOSS: 6.7843, AUC: 0.9641, AP: 0.9654\n",
      "Epoch: 043, LOSS: 6.7712, AUC: 0.9611, AP: 0.9621\n",
      "Epoch: 044, LOSS: 6.7038, AUC: 0.9587, AP: 0.9593\n",
      "Epoch: 045, LOSS: 6.7530, AUC: 0.9582, AP: 0.9586\n",
      "Epoch: 046, LOSS: 6.6453, AUC: 0.9593, AP: 0.9597\n",
      "Epoch: 047, LOSS: 6.4386, AUC: 0.9606, AP: 0.9613\n",
      "Epoch: 048, LOSS: 6.3515, AUC: 0.9618, AP: 0.9626\n",
      "Epoch: 049, LOSS: 6.2585, AUC: 0.9611, AP: 0.9620\n",
      "Epoch: 050, LOSS: 5.8581, AUC: 0.9610, AP: 0.9614\n",
      "Epoch: 051, LOSS: 5.8870, AUC: 0.9609, AP: 0.9606\n",
      "Epoch: 052, LOSS: 5.9113, AUC: 0.9605, AP: 0.9597\n",
      "Epoch: 053, LOSS: 5.7083, AUC: 0.9602, AP: 0.9591\n",
      "Epoch: 054, LOSS: 5.6320, AUC: 0.9599, AP: 0.9588\n",
      "Epoch: 055, LOSS: 5.4647, AUC: 0.9595, AP: 0.9585\n",
      "Epoch: 056, LOSS: 5.2662, AUC: 0.9588, AP: 0.9582\n",
      "Epoch: 057, LOSS: 5.2969, AUC: 0.9580, AP: 0.9578\n",
      "Epoch: 058, LOSS: 5.0468, AUC: 0.9570, AP: 0.9572\n",
      "Epoch: 059, LOSS: 5.1156, AUC: 0.9561, AP: 0.9567\n",
      "Epoch: 060, LOSS: 4.9764, AUC: 0.9554, AP: 0.9562\n",
      "Epoch: 061, LOSS: 4.7467, AUC: 0.9550, AP: 0.9558\n",
      "Epoch: 062, LOSS: 4.9014, AUC: 0.9548, AP: 0.9556\n",
      "Epoch: 063, LOSS: 4.7430, AUC: 0.9547, AP: 0.9553\n",
      "Epoch: 064, LOSS: 4.6859, AUC: 0.9544, AP: 0.9549\n",
      "Epoch: 065, LOSS: 4.5675, AUC: 0.9541, AP: 0.9544\n",
      "Epoch: 066, LOSS: 4.6707, AUC: 0.9539, AP: 0.9541\n",
      "Epoch: 067, LOSS: 4.4462, AUC: 0.9538, AP: 0.9539\n",
      "Epoch: 068, LOSS: 4.4447, AUC: 0.9538, AP: 0.9537\n",
      "Epoch: 069, LOSS: 4.0853, AUC: 0.9535, AP: 0.9533\n"
     ]
    },
    {
     "ename": "NameError",
     "evalue": "name 'model2_path' is not defined",
     "output_type": "error",
     "traceback": [
      "\u001b[1;31m---------------------------------------------------------------------------\u001b[0m",
      "\u001b[1;31mNameError\u001b[0m                                 Traceback (most recent call last)",
      "\u001b[1;32m~\\AppData\\Local\\Temp\\ipykernel_5548\\2163507410.py\u001b[0m in \u001b[0;36m<module>\u001b[1;34m\u001b[0m\n\u001b[0;32m     32\u001b[0m \u001b[1;32melse\u001b[0m\u001b[1;33m:\u001b[0m\u001b[1;33m\u001b[0m\u001b[1;33m\u001b[0m\u001b[0m\n\u001b[0;32m     33\u001b[0m     \u001b[0mmodel1_path\u001b[0m \u001b[1;33m=\u001b[0m \u001b[1;34m'./model/VGAE_best_model_VGNAE_'\u001b[0m\u001b[1;33m+\u001b[0m\u001b[0mstr\u001b[0m\u001b[1;33m(\u001b[0m\u001b[0mdss_num\u001b[0m\u001b[1;33m+\u001b[0m\u001b[1;36m1\u001b[0m\u001b[1;33m)\u001b[0m\u001b[1;33m+\u001b[0m\u001b[1;34m'.pt'\u001b[0m\u001b[1;33m\u001b[0m\u001b[1;33m\u001b[0m\u001b[0m\n\u001b[1;32m---> 34\u001b[1;33m \u001b[0mtorch\u001b[0m\u001b[1;33m.\u001b[0m\u001b[0msave\u001b[0m\u001b[1;33m(\u001b[0m\u001b[0mbest_model\u001b[0m\u001b[1;33m,\u001b[0m \u001b[0mmodel2_path\u001b[0m\u001b[1;33m)\u001b[0m\u001b[1;33m\u001b[0m\u001b[1;33m\u001b[0m\u001b[0m\n\u001b[0m",
      "\u001b[1;31mNameError\u001b[0m: name 'model2_path' is not defined"
     ]
    }
   ],
   "source": [
    "epochs = 400\n",
    "tolerance = 30 #Proposed: 50\n",
    "best_auc = float('-inf')\n",
    "best_ap = float('-inf')\n",
    "num_tol = 0\n",
    "auc_list = []\n",
    "ap_list = []\n",
    "loss_list = []\n",
    "for epoch in range(1,epochs):\n",
    "    loss = train(model2,optimizer2)\n",
    "    loss = float(loss)\n",
    "    \n",
    "    with torch.no_grad():\n",
    "        #valid_pos, valid_neg = data.val_pos_edge_index, data.val_neg_edge_index\n",
    "        auc, ap = test(data.val_pos_edge_index, data.val_neg_edge_index,model2)\n",
    "        if auc<best_auc and ap<best_ap:\n",
    "            tol += 1\n",
    "            if tol>=tolerance:\n",
    "                break\n",
    "        else:\n",
    "            best_auc = auc\n",
    "            best_ap = ap\n",
    "            best_model = model2.state_dict()\n",
    "            tol = 0\n",
    "            \n",
    "        auc_list.append(auc)\n",
    "        ap_list.append(ap)\n",
    "        loss_list.append(loss)\n",
    "        print('Epoch: {:03d}, LOSS: {:.4f}, AUC: {:.4f}, AP: {:.4f}'.format(epoch, loss, auc, ap))\n",
    "if newfea:\n",
    "    model1_path = './model/VGAE_best_model_VGNAE_newfea_'+str(dss_num+1)+'.pt'\n",
    "else:\n",
    "    model1_path = './model/VGAE_best_model_VGNAE_'+str(dss_num+1)+'.pt'\n",
    "torch.save(best_model, model2_path)"
   ]
  },
  {
   "cell_type": "code",
   "execution_count": null,
   "id": "921fb3ed",
   "metadata": {},
   "outputs": [],
   "source": [
    "model2.load_state_dict(torch.load(model2_path))\n",
    "test(data.val_pos_edge_index, data.val_neg_edge_index,model2)"
   ]
  },
  {
   "cell_type": "code",
   "execution_count": null,
   "id": "2b2addd5",
   "metadata": {},
   "outputs": [],
   "source": [
    "z = model2.encode(x, data.train_pos_edge_index)\n",
    "Upload['prob'] = model2.decoder(z,data.test,sigmoid = True).detach().cpu().numpy()\n",
    "Upload"
   ]
  },
  {
   "cell_type": "code",
   "execution_count": null,
   "id": "acef03af",
   "metadata": {},
   "outputs": [],
   "source": [
    "if newfea: \n",
    "    Upload.to_csv('output/VGNAE_undirect_best_newfea_'+str(dss_num+1)+'.csv',index=False)\n",
    "else:\n",
    "    Upload.to_csv('output/VGNAE_undirect_best_'+str(dss_num+1)+'.csv',index=False)"
   ]
  },
  {
   "cell_type": "code",
   "execution_count": null,
   "id": "9407b4b4",
   "metadata": {},
   "outputs": [],
   "source": [
    "plt.plot(np.array(loss_list),'r',label='loss')\n",
    "plt.xlabel('Epochs')\n",
    "if newfea:\n",
    "    title = 'Loss of VGNAE with additional features on dataset'+str(dss_num+1)\n",
    "else:\n",
    "    title = 'Loss of VGNAE on dataset'+str(dss_num+1)\n",
    "plt.title(title)\n",
    "plt.savefig('./plot/'+title+'.png')\n",
    "plt.show()\n",
    "\n",
    "plt.plot(np.array(auc_list),'b',label='AUC')\n",
    "plt.plot(np.array(ap_list),'g',label='AP')\n",
    "plt.legend()\n",
    "plt.xlabel('Epochs')\n",
    "if newfea:\n",
    "    title = 'Evaluation on valid data of VGNAE on dataset'+str(dss_num+1)+ ' with additional features'\n",
    "else:\n",
    "    title = 'Evaluation on valid data of VGNAE on dataset'+str(dss_num+1)\n",
    "plt.title(title)\n",
    "plt.savefig('./plot/'+title+'.png')\n",
    "plt.show()"
   ]
  },
  {
   "cell_type": "code",
   "execution_count": null,
   "id": "be347e02",
   "metadata": {},
   "outputs": [],
   "source": [
    "z1 = model1.encode(x, data.train_pos_edge_index)\n",
    "z2 = model2.encode(x, data.train_pos_edge_index)\n",
    "Upload['prob'] = (2*model1.decoder(z1,data.test,sigmoid = True).detach().cpu().numpy()+model2.decoder(z2,data.test,sigmoid = True).detach().cpu().numpy())/3\n",
    "Upload"
   ]
  },
  {
   "cell_type": "code",
   "execution_count": null,
   "id": "fec92e04",
   "metadata": {},
   "outputs": [],
   "source": [
    "if newfea: \n",
    "    Upload.to_csv('output/Hybrid_undirect_imb_best_newfea_'+str(dss_num+1)+'.csv',index=False)\n",
    "else:\n",
    "    Upload.to_csv('output/Hybrid_undirect_imb_best_'+str(dss_num+1)+'.csv',index=False)"
   ]
  }
 ],
 "metadata": {
  "kernelspec": {
   "display_name": "Python 3 (ipykernel)",
   "language": "python",
   "name": "python3"
  },
  "language_info": {
   "codemirror_mode": {
    "name": "ipython",
    "version": 3
   },
   "file_extension": ".py",
   "mimetype": "text/x-python",
   "name": "python",
   "nbconvert_exporter": "python",
   "pygments_lexer": "ipython3",
   "version": "3.7.16"
  }
 },
 "nbformat": 4,
 "nbformat_minor": 5
}
