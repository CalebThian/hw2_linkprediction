{
 "cells": [
  {
   "cell_type": "code",
   "execution_count": 1,
   "id": "0811582f",
   "metadata": {},
   "outputs": [
    {
     "name": "stderr",
     "output_type": "stream",
     "text": [
      "C:\\Users\\caleb\\anaconda3\\envs\\pytorch\\lib\\site-packages\\tqdm\\auto.py:21: TqdmWarning: IProgress not found. Please update jupyter and ipywidgets. See https://ipywidgets.readthedocs.io/en/stable/user_install.html\n",
      "  from .autonotebook import tqdm as notebook_tqdm\n"
     ]
    }
   ],
   "source": [
    "import os.path as osp\n",
    "import pandas as pd\n",
    "import networkx as nx\n",
    "import numpy as np\n",
    "import scipy.sparse as sp\n",
    "\n",
    "import torch\n",
    "import torch.nn as nn\n",
    "import torch.nn.functional as F\n",
    "\n",
    "from torch_geometric.datasets import Planetoid, Coauthor, Amazon\n",
    "from torch_geometric.utils import train_test_split_edges, dense_to_sparse\n",
    "from torch_geometric.nn import GAE, VGAE, APPNP,GCNConv,InnerProductDecoder\n",
    "import torch_geometric.transforms as T\n",
    "from torch_geometric.data import Data\n",
    "\n",
    "import matplotlib.pyplot as plt"
   ]
  },
  {
   "cell_type": "code",
   "execution_count": 2,
   "id": "75ec8b55",
   "metadata": {},
   "outputs": [
    {
     "data": {
      "text/html": [
       "<div>\n",
       "<style scoped>\n",
       "    .dataframe tbody tr th:only-of-type {\n",
       "        vertical-align: middle;\n",
       "    }\n",
       "\n",
       "    .dataframe tbody tr th {\n",
       "        vertical-align: top;\n",
       "    }\n",
       "\n",
       "    .dataframe thead th {\n",
       "        text-align: right;\n",
       "    }\n",
       "</style>\n",
       "<table border=\"1\" class=\"dataframe\">\n",
       "  <thead>\n",
       "    <tr style=\"text-align: right;\">\n",
       "      <th></th>\n",
       "      <th>id</th>\n",
       "      <th>to</th>\n",
       "      <th>from</th>\n",
       "    </tr>\n",
       "  </thead>\n",
       "  <tbody>\n",
       "    <tr>\n",
       "      <th>0</th>\n",
       "      <td>E370</td>\n",
       "      <td>26</td>\n",
       "      <td>317</td>\n",
       "    </tr>\n",
       "    <tr>\n",
       "      <th>1</th>\n",
       "      <td>E667</td>\n",
       "      <td>196</td>\n",
       "      <td>323</td>\n",
       "    </tr>\n",
       "    <tr>\n",
       "      <th>2</th>\n",
       "      <td>E3190</td>\n",
       "      <td>739</td>\n",
       "      <td>468</td>\n",
       "    </tr>\n",
       "    <tr>\n",
       "      <th>3</th>\n",
       "      <td>E848</td>\n",
       "      <td>576</td>\n",
       "      <td>156</td>\n",
       "    </tr>\n",
       "    <tr>\n",
       "      <th>4</th>\n",
       "      <td>E2161</td>\n",
       "      <td>466</td>\n",
       "      <td>199</td>\n",
       "    </tr>\n",
       "  </tbody>\n",
       "</table>\n",
       "</div>"
      ],
      "text/plain": [
       "      id   to  from\n",
       "0   E370   26   317\n",
       "1   E667  196   323\n",
       "2  E3190  739   468\n",
       "3   E848  576   156\n",
       "4  E2161  466   199"
      ]
     },
     "execution_count": 2,
     "metadata": {},
     "output_type": "execute_result"
    }
   ],
   "source": [
    "path = \"hw2_data/\"\n",
    "dss = ['dataset1','dataset2','dataset3'] #datasets\n",
    "datasets = dict()\n",
    "for ds in dss:\n",
    "    datasets[ds] = dict()\n",
    "    datasets[ds]['content'] = pd.read_csv(path+ds+\"/content.csv\",delimiter = '\\t',header = None)\n",
    "    datasets[ds]['train'] = pd.read_csv(path+ds+\"/train.csv\",delimiter = ',')\n",
    "    datasets[ds]['test'] = pd.read_csv(path+ds+\"/test.csv\",delimiter = ',')\n",
    "    datasets[ds]['upload'] = pd.read_csv(path+ds+\"/upload.csv\",delimiter = ',')\n",
    "datasets[dss[2]]['test'].head()"
   ]
  },
  {
   "cell_type": "code",
   "execution_count": 3,
   "id": "26b78e9b",
   "metadata": {},
   "outputs": [
    {
     "name": "stdout",
     "output_type": "stream",
     "text": [
      "dataset1\n",
      "Nodes 2708\n",
      "Attributes for each node:1433\n",
      "Positive edges given: 4324\n",
      "dataset2\n",
      "Nodes 3312\n",
      "Attributes for each node:3703\n",
      "Positive edges given: 3736\n",
      "dataset3\n",
      "Nodes 877\n",
      "Attributes for each node:1703\n",
      "Positive edges given: 1273\n"
     ]
    }
   ],
   "source": [
    "for dss_num in range(3):\n",
    "    Content = datasets[dss[dss_num]]['content']\n",
    "    Train = datasets[dss[dss_num]]['train']\n",
    "    Test = datasets[dss[dss_num]]['test']\n",
    "    Upload = datasets[dss[dss_num]]['upload']\n",
    "    print(dss[dss_num])\n",
    "    print(f'Nodes {Content.shape[0]}')\n",
    "    print(f'Attributes for each node:{Content.shape[1]-1}')\n",
    "    pos = Train[Train['label']==1].shape[0]\n",
    "    print(f'Positive edges given: {pos}')"
   ]
  },
  {
   "cell_type": "code",
   "execution_count": 4,
   "id": "b8039563",
   "metadata": {},
   "outputs": [],
   "source": [
    "#For example:\n",
    "dss_num = 0\n",
    "Content = datasets[dss[dss_num]]['content']\n",
    "Train = datasets[dss[dss_num]]['train']\n",
    "Test = datasets[dss[dss_num]]['test']\n",
    "Upload = datasets[dss[dss_num]]['upload']"
   ]
  },
  {
   "cell_type": "code",
   "execution_count": 5,
   "id": "8855569e",
   "metadata": {},
   "outputs": [],
   "source": [
    "def load_data(content,train, test):\n",
    "    G = nx.Graph()\n",
    "    # for easier split the edges, create 2 graph, 1 with positive edge, the other with given negative edges\n",
    "    G_pos = nx.Graph()\n",
    "    G_neg = nx.Graph()\n",
    "    for i in range(len(content)):\n",
    "        G.add_node(int(content.iloc[i,0]),features = np.array(content.iloc[i,1:]))\n",
    "        # pos and neg\n",
    "        G_pos.add_node(int(content.iloc[i,0]),features = np.array(content.iloc[i,1:]))\n",
    "        G_neg.add_node(int(content.iloc[i,0]),features = np.array(content.iloc[i,1:]))\n",
    "        \n",
    "    for i in range(len(train)):\n",
    "        # Adding nodes into G\n",
    "        '''\n",
    "        if train.loc[i,'from'] not in G:\n",
    "            G.add_node(train.loc[i,'from'],features = graph_node_features_dict[train.loc[i,'from']])\n",
    "        if train.loc[i,'to'] not in G:\n",
    "            G.add_node(train.loc[i,'to'],features = graph_node_features_dict[train.loc[i,'to']])\n",
    "        ''' \n",
    "        # Adding edges\n",
    "        G.add_edge(train.loc[i,'from'],train.loc[i,'to'],label = train.loc[i,'label'])\n",
    "        \n",
    "        # pos and neg\n",
    "        if train.loc[i,'label'] == 0: \n",
    "            G_neg.add_edge(train.loc[i,'from'],train.loc[i,'to'],label = train.loc[i,'label'])\n",
    "        else:\n",
    "            G_pos.add_edge(train.loc[i,'from'],train.loc[i,'to'],label = train.loc[i,'label'])\n",
    "\n",
    "    adj = nx.adjacency_matrix(G,sorted(G.nodes()))\n",
    "    adj_pos = nx.adjacency_matrix(G_pos,sorted(G_pos.nodes()))\n",
    "    adj_neg = nx.adjacency_matrix(G_neg,sorted(G_neg.nodes()))\n",
    "    \n",
    "    features = np.array(\n",
    "        [features for _, features in sorted(G.nodes(data='features'), key=lambda x: x[0])])\n",
    "    #features[:,:1433] = preprocess_features(features[:,:1433])\n",
    "    #features[:,1433:] = preprocess_features(features[:,1433:])\n",
    "    # Skip train,valid,and test mask\n",
    "    \n",
    "    num_features = features.shape[1]\n",
    "    features = torch.FloatTensor(features)\n",
    "    return adj, adj_pos, adj_neg, features, num_features"
   ]
  },
  {
   "cell_type": "code",
   "execution_count": 6,
   "id": "2f8130a5",
   "metadata": {},
   "outputs": [],
   "source": [
    "def preprocess_features(features):\n",
    "    # Row-normalize feature matrix and convert to tuple representation\n",
    "    rowsum = np.array(features.sum(1),dtype = np.float32)\n",
    "    rowsum = (rowsum==0)*1+rowsum\n",
    "    r_inv = np.power(rowsum, -1).flatten()\n",
    "    r_inv[np.isinf(r_inv)] = 0.\n",
    "    r_mat_inv = sp.diags(r_inv)\n",
    "    features = r_mat_inv.dot(features)\n",
    "    return features"
   ]
  },
  {
   "cell_type": "code",
   "execution_count": 7,
   "id": "58968c96",
   "metadata": {},
   "outputs": [],
   "source": [
    "def increase_features(content,train):\n",
    "    G = nx.Graph()\n",
    "    for i in range(len(content)):\n",
    "        G.add_node(int(content.iloc[i,0]),features = np.array(content.iloc[i,1:]))\n",
    "        \n",
    "    # Adding edges\n",
    "    for i in range(len(train)):\n",
    "        # pos and neg\n",
    "        if train.loc[i,'label'] == 1: \n",
    "            G.add_edge(train.loc[i,'from'],train.loc[i,'to'],label = train.loc[i,'label'])\n",
    "            \n",
    "    df = content.copy()\n",
    "    df['pagerank'] = nx.pagerank(G,alpha=0.9).values()\n",
    "    df['pagerank'] = df['pagerank']/np.linalg.norm(df['pagerank'])\n",
    "    \n",
    "    hubs,aut = nx.hits(G)\n",
    "    df['hubs'] = hubs.values()\n",
    "    df['hubs'] = df['hubs']/np.linalg.norm(df['hubs'])\n",
    "    df['aut'] = aut.values()\n",
    "    df['aut'] = df['hubs']/np.linalg.norm(df['aut'])\n",
    "    \n",
    "    \n",
    "    features_name = ['degree','in_degree','out_degree','eigenvec','katz','closeness','info',\n",
    "                     'betweenness','rwbetween','combetween','load','subgraph','harmonic','local_reach',\n",
    "                    'global_reach', 'percolation','order2','trophic','laplacian']\n",
    "    \n",
    "    df[features_name[0]] = nx.degree_centrality(G).values()\n",
    "    #df[features_name[1]] = nx.in_degree_centrality(G).values()\n",
    "    #df[features_name[2]] = nx.out_degree_centrality(G).values()\n",
    "    df[features_name[3]] = nx.eigenvector_centrality(G).values()\n",
    "    #df[features_name[4]] = nx.katz_centrality(G).values()\n",
    "    df[features_name[5]] = nx.closeness_centrality(G).values()\n",
    "    #df[features_name[6]] = nx.information_centrality(G).values()\n",
    "    #df[features_name[7]] = nx.betweenness_centrality(G).values()\n",
    "    #print('finish feature 7')\n",
    "    #df[features_name[8]] = nx.current_flow_betweenness_centrality(G).values()\n",
    "    #df[features_name[9]] = nx.communicability_betweenness_centrality(G).values()\n",
    "    #print('finish feature 9')\n",
    "    df[features_name[10]] = nx.load_centrality(G).values()\n",
    "    print('finish feature 10')\n",
    "    df[features_name[11]] = nx.subgraph_centrality(G).values()\n",
    "    print('finish feature 11')\n",
    "    df[features_name[12]] = nx.harmonic_centrality(G).values()\n",
    "    print('finish feature 12')\n",
    "    #df[features_name[13]] = nx.local_reaching_centrality(G).values()\n",
    "    #print('finish feature 13')\n",
    "    #df[features_name[14]] = nx.global_reaching_centrality(G).values()\n",
    "    #print('finish feature 14')\n",
    "    #df[features_name[15]] = nx.percolation_centrality(G).values()\n",
    "    #print('finish feature 15')\n",
    "    #df[features_name[16]] = nx.second_order_centrality(G).values()\n",
    "    #print('finish feature 16')\n",
    "    #df[features_name[17]] = nx.trophic_levels(G).values()\n",
    "    #print('finish feature 17')\n",
    "    #df[features_name[18]] = nx.laplacian_centrality(G).values()\n",
    "    #print('finish feature 18')\n",
    "    \n",
    "    for fea_num in [0,3,5,10,11,12]:\n",
    "        df[features_name[fea_num]] /= np.linalg.norm(df[features_name[fea_num]])\n",
    "    \n",
    "    return df"
   ]
  },
  {
   "cell_type": "code",
   "execution_count": 8,
   "id": "76a10410",
   "metadata": {},
   "outputs": [
    {
     "data": {
      "text/plain": [
       "Data(x=[2708, 1433], edge_index=[2, 8472], test=[2, 2172])"
      ]
     },
     "execution_count": 8,
     "metadata": {},
     "output_type": "execute_result"
    }
   ],
   "source": [
    "newfea = False\n",
    "if newfea:\n",
    "    Content_mod = increase_features(Content,Train)\n",
    "    g, pos, neg, features, num_features = load_data(Content_mod,Train,Test)\n",
    "else:\n",
    "    g, pos, neg, features, num_features = load_data(Content,Train,Test)\n",
    "A = g.toarray()\n",
    "edge_index,_ = dense_to_sparse(torch.tensor(A))\n",
    "Apos = pos.toarray()\n",
    "edge_index_pos,_ = dense_to_sparse(torch.tensor(Apos))\n",
    "Aneg = neg.toarray()\n",
    "edge_index_neg,_ = dense_to_sparse(torch.tensor(Aneg))\n",
    "data = Data(edge_index=edge_index_pos,x=features.to(torch.float),test = torch.tensor([Test['from'],Test['to']]))\n",
    "data"
   ]
  },
  {
   "cell_type": "code",
   "execution_count": 9,
   "id": "8112ee26",
   "metadata": {},
   "outputs": [],
   "source": [
    "dev = torch.device('cuda' if torch.cuda.is_available() else 'cpu')\n",
    "channels = 256"
   ]
  },
  {
   "cell_type": "code",
   "execution_count": 10,
   "id": "ac611533",
   "metadata": {},
   "outputs": [
    {
     "name": "stderr",
     "output_type": "stream",
     "text": [
      "C:\\Users\\caleb\\anaconda3\\envs\\pytorch\\lib\\site-packages\\torch_geometric\\deprecation.py:12: UserWarning: 'train_test_split_edges' is deprecated, use 'transforms.RandomLinkSplit' instead\n",
      "  warnings.warn(out)\n"
     ]
    }
   ],
   "source": [
    "train_rate = 0.9\n",
    "val_ratio = (1-train_rate)#/3\n",
    "test_ratio = 0#(1-train_rate) / 3 * 2\n",
    "data = train_test_split_edges(data.to(dev), val_ratio=val_ratio, test_ratio=0)\n",
    "               #,train_pos_edge_index = edge_index_pos,neg = edge_index_neg,test = edge_index_test)\n",
    "data = T.NormalizeFeatures()(data) # Should not do this normalization for new features"
   ]
  },
  {
   "cell_type": "code",
   "execution_count": 11,
   "id": "79d10b7e",
   "metadata": {},
   "outputs": [],
   "source": [
    "model_used = 'Hybrid'\n",
    "scaling_factor = 1.8\n",
    "class Encoder(torch.nn.Module):\n",
    "    def __init__(self, in_channels, out_channels, edge_index,model_used = 'GNAE'):\n",
    "        super(Encoder, self).__init__()\n",
    "        self.linear1 = nn.Linear(in_channels, out_channels)\n",
    "        self.linear2 = nn.Linear(in_channels, out_channels)\n",
    "        self.propagate = APPNP(K=2, alpha=0) # Propose: 10, 0.15\n",
    "        self.model_used = model_used\n",
    "\n",
    "    def forward(self, x, edge_index,not_prop=0):\n",
    "        if self.model_used  == 'GNAE':\n",
    "            x = self.linear1(x)\n",
    "            x = F.normalize(x,p=2,dim=1)  * scaling_factor\n",
    "            x = self.propagate(x, edge_index)\n",
    "            return x\n",
    "\n",
    "        if self.model_used  == 'VGNAE':\n",
    "            x_ = self.linear1(x)\n",
    "            x_ = self.propagate(x_, edge_index)\n",
    "\n",
    "            x = self.linear2(x)\n",
    "            x = F.normalize(x,p=2,dim=1) * scaling_factor\n",
    "            x = self.propagate(x, edge_index)\n",
    "            return x, x_\n",
    "\n",
    "        return x"
   ]
  },
  {
   "cell_type": "code",
   "execution_count": 12,
   "id": "5b8f0f89",
   "metadata": {},
   "outputs": [],
   "source": [
    "def train(model,optimizer):\n",
    "    model.train()\n",
    "    optimizer.zero_grad()\n",
    "    z  = model.encode(x, train_pos_edge_index)\n",
    "    loss = model.recon_loss(z, train_pos_edge_index)\n",
    "    if model_used  in ['VGNAE']:\n",
    "        loss = loss + (1 / data.num_nodes) * model.kl_loss()\n",
    "    loss.backward()\n",
    "    optimizer.step()\n",
    "    return loss"
   ]
  },
  {
   "cell_type": "code",
   "execution_count": 13,
   "id": "f468ee94",
   "metadata": {},
   "outputs": [],
   "source": [
    "def test(pos_edge_index, neg_edge_index,model):\n",
    "    model.eval()\n",
    "    with torch.no_grad():\n",
    "        z = model.encode(x, train_pos_edge_index)\n",
    "    return model.test(z, pos_edge_index, neg_edge_index)"
   ]
  },
  {
   "cell_type": "code",
   "execution_count": 14,
   "id": "2332a3db",
   "metadata": {
    "scrolled": true
   },
   "outputs": [],
   "source": [
    "if model_used  == 'GNAE':   \n",
    "    model = GAE(Encoder(data.x.size()[1], channels, data.train_pos_edge_index,model_used = 'GNAE')).to(dev)\n",
    "    optimizer = torch.optim.Adam(model.parameters(), lr=0.005)\n",
    "if model_used  == 'VGNAE':\n",
    "    model = VGAE(Encoder(data.x.size()[1],channels, data.train_pos_edge_index,model_used = 'VGNAE')).to(dev)\n",
    "    optimizer = torch.optim.Adam(model.parameters(), lr=0.005)\n",
    "if model_used == 'Hybrid':\n",
    "    model1 = GAE(Encoder(data.x.size()[1], channels, data.train_pos_edge_index,model_used = 'GNAE')).to(dev)\n",
    "    model2 = VGAE(Encoder(data.x.size()[1],channels, data.train_pos_edge_index,model_used = 'VGNAE')).to(dev)\n",
    "    optimizer1 = torch.optim.Adam(model1.parameters(), lr=0.005)\n",
    "    optimizer2 = torch.optim.Adam(model2.parameters(), lr=0.005)\n",
    "#model = VGAE(VariationalGCNEncoder(data.x.size()[1],channels)).to(dev)"
   ]
  },
  {
   "cell_type": "code",
   "execution_count": 15,
   "id": "222e977c",
   "metadata": {},
   "outputs": [],
   "source": [
    "data.train_mask = data.val_mask = data.test_mask = data.y = None\n",
    "x, train_pos_edge_index = data.x.to(dev), data.train_pos_edge_index.to(dev)"
   ]
  },
  {
   "cell_type": "code",
   "execution_count": 16,
   "id": "2771c139",
   "metadata": {},
   "outputs": [
    {
     "data": {
      "text/plain": [
       "(0.6999871457393714, 0.7214026665509832)"
      ]
     },
     "execution_count": 16,
     "metadata": {},
     "output_type": "execute_result"
    }
   ],
   "source": [
    "test(data.val_pos_edge_index, data.val_neg_edge_index,model1)"
   ]
  },
  {
   "cell_type": "code",
   "execution_count": 17,
   "id": "ddfe7697",
   "metadata": {
    "scrolled": true
   },
   "outputs": [
    {
     "name": "stdout",
     "output_type": "stream",
     "text": [
      "Epoch: 001, LOSS: 2.8617, AUC: 0.7239, AP: 0.7419\n",
      "Epoch: 002, LOSS: 2.4505, AUC: 0.8227, AP: 0.8360\n",
      "Epoch: 003, LOSS: 1.5336, AUC: 0.8884, AP: 0.8966\n",
      "Epoch: 004, LOSS: 1.2945, AUC: 0.8762, AP: 0.8861\n",
      "Epoch: 005, LOSS: 1.3824, AUC: 0.8932, AP: 0.9017\n",
      "Epoch: 006, LOSS: 1.3305, AUC: 0.9217, AP: 0.9269\n",
      "Epoch: 007, LOSS: 1.2165, AUC: 0.9391, AP: 0.9417\n",
      "Epoch: 008, LOSS: 1.1404, AUC: 0.9469, AP: 0.9477\n",
      "Epoch: 009, LOSS: 1.0949, AUC: 0.9503, AP: 0.9500\n",
      "Epoch: 010, LOSS: 1.0723, AUC: 0.9518, AP: 0.9512\n",
      "Epoch: 011, LOSS: 1.0620, AUC: 0.9527, AP: 0.9518\n",
      "Epoch: 012, LOSS: 1.0532, AUC: 0.9529, AP: 0.9518\n",
      "Epoch: 013, LOSS: 1.0461, AUC: 0.9527, AP: 0.9516\n",
      "Epoch: 014, LOSS: 1.0325, AUC: 0.9520, AP: 0.9512\n",
      "Epoch: 015, LOSS: 1.0149, AUC: 0.9510, AP: 0.9506\n",
      "Epoch: 016, LOSS: 0.9964, AUC: 0.9495, AP: 0.9497\n",
      "Epoch: 017, LOSS: 0.9792, AUC: 0.9485, AP: 0.9492\n",
      "Epoch: 018, LOSS: 0.9581, AUC: 0.9482, AP: 0.9490\n",
      "Epoch: 019, LOSS: 0.9484, AUC: 0.9480, AP: 0.9490\n",
      "Epoch: 020, LOSS: 0.9426, AUC: 0.9481, AP: 0.9489\n",
      "Epoch: 021, LOSS: 0.9352, AUC: 0.9479, AP: 0.9487\n",
      "Epoch: 022, LOSS: 0.9380, AUC: 0.9478, AP: 0.9486\n",
      "Epoch: 023, LOSS: 0.9350, AUC: 0.9476, AP: 0.9484\n",
      "Epoch: 024, LOSS: 0.9244, AUC: 0.9477, AP: 0.9483\n",
      "Epoch: 025, LOSS: 0.9292, AUC: 0.9478, AP: 0.9483\n",
      "Epoch: 026, LOSS: 0.9189, AUC: 0.9480, AP: 0.9484\n",
      "Epoch: 027, LOSS: 0.9137, AUC: 0.9480, AP: 0.9483\n",
      "Epoch: 028, LOSS: 0.9052, AUC: 0.9480, AP: 0.9480\n",
      "Epoch: 029, LOSS: 0.9025, AUC: 0.9480, AP: 0.9479\n",
      "Epoch: 030, LOSS: 0.8939, AUC: 0.9481, AP: 0.9479\n",
      "Epoch: 031, LOSS: 0.8924, AUC: 0.9484, AP: 0.9480\n",
      "Epoch: 032, LOSS: 0.8884, AUC: 0.9486, AP: 0.9480\n",
      "Epoch: 033, LOSS: 0.8899, AUC: 0.9487, AP: 0.9478\n",
      "Epoch: 034, LOSS: 0.8866, AUC: 0.9487, AP: 0.9478\n",
      "Epoch: 035, LOSS: 0.8894, AUC: 0.9489, AP: 0.9479\n",
      "Epoch: 036, LOSS: 0.8801, AUC: 0.9490, AP: 0.9480\n",
      "Epoch: 037, LOSS: 0.8841, AUC: 0.9491, AP: 0.9478\n",
      "Epoch: 038, LOSS: 0.8750, AUC: 0.9490, AP: 0.9477\n",
      "Epoch: 039, LOSS: 0.8745, AUC: 0.9491, AP: 0.9477\n",
      "Epoch: 040, LOSS: 0.8739, AUC: 0.9494, AP: 0.9479\n",
      "Epoch: 041, LOSS: 0.8749, AUC: 0.9496, AP: 0.9479\n"
     ]
    }
   ],
   "source": [
    "epochs = 400\n",
    "tolerance = 30 #Proposed: 50\n",
    "best_auc = float('-inf')\n",
    "best_ap = float('-inf')\n",
    "num_tol = 0\n",
    "auc_list = []\n",
    "ap_list = []\n",
    "loss_list = []\n",
    "for epoch in range(1,epochs):\n",
    "    loss = train(model1,optimizer1)\n",
    "    loss = float(loss)\n",
    "    \n",
    "    with torch.no_grad():\n",
    "        #valid_pos, valid_neg = data.val_pos_edge_index, data.val_neg_edge_index\n",
    "        auc, ap = test(data.val_pos_edge_index, data.val_neg_edge_index,model1)\n",
    "        if auc<best_auc and ap<best_ap:\n",
    "            tol += 1\n",
    "            if tol>=tolerance:\n",
    "                break\n",
    "        else:\n",
    "            best_auc = auc\n",
    "            best_ap = ap\n",
    "            best_model = model1.state_dict()\n",
    "            tol = 0\n",
    "            \n",
    "        auc_list.append(auc)\n",
    "        ap_list.append(ap)\n",
    "        loss_list.append(loss)\n",
    "        print('Epoch: {:03d}, LOSS: {:.4f}, AUC: {:.4f}, AP: {:.4f}'.format(epoch, loss, auc, ap))\n",
    "if newfea:\n",
    "    model1_path = './model/VGAE_best_model_GNAE_newfea_'+str(dss_num+1)+'.pt'\n",
    "else:\n",
    "    model1_path = './model/VGAE_best_model_GNAE_'+str(dss_num+1)+'.pt'\n",
    "torch.save(best_model, model1_path)"
   ]
  },
  {
   "cell_type": "code",
   "execution_count": 18,
   "id": "d3b38a25",
   "metadata": {},
   "outputs": [
    {
     "data": {
      "text/plain": [
       "(0.9498404395039373, 0.9478683321446959)"
      ]
     },
     "execution_count": 18,
     "metadata": {},
     "output_type": "execute_result"
    }
   ],
   "source": [
    "model1.load_state_dict(torch.load(model1_path))\n",
    "test(data.val_pos_edge_index, data.val_neg_edge_index,model1)"
   ]
  },
  {
   "cell_type": "code",
   "execution_count": 19,
   "id": "63c1d83e",
   "metadata": {
    "scrolled": true
   },
   "outputs": [
    {
     "data": {
      "text/html": [
       "<div>\n",
       "<style scoped>\n",
       "    .dataframe tbody tr th:only-of-type {\n",
       "        vertical-align: middle;\n",
       "    }\n",
       "\n",
       "    .dataframe tbody tr th {\n",
       "        vertical-align: top;\n",
       "    }\n",
       "\n",
       "    .dataframe thead th {\n",
       "        text-align: right;\n",
       "    }\n",
       "</style>\n",
       "<table border=\"1\" class=\"dataframe\">\n",
       "  <thead>\n",
       "    <tr style=\"text-align: right;\">\n",
       "      <th></th>\n",
       "      <th>id</th>\n",
       "      <th>prob</th>\n",
       "    </tr>\n",
       "  </thead>\n",
       "  <tbody>\n",
       "    <tr>\n",
       "      <th>0</th>\n",
       "      <td>E10559</td>\n",
       "      <td>0.529388</td>\n",
       "    </tr>\n",
       "    <tr>\n",
       "      <th>1</th>\n",
       "      <td>E4849</td>\n",
       "      <td>0.697148</td>\n",
       "    </tr>\n",
       "    <tr>\n",
       "      <th>2</th>\n",
       "      <td>E3964</td>\n",
       "      <td>0.875308</td>\n",
       "    </tr>\n",
       "    <tr>\n",
       "      <th>3</th>\n",
       "      <td>E542</td>\n",
       "      <td>0.602261</td>\n",
       "    </tr>\n",
       "    <tr>\n",
       "      <th>4</th>\n",
       "      <td>E331</td>\n",
       "      <td>0.885174</td>\n",
       "    </tr>\n",
       "    <tr>\n",
       "      <th>...</th>\n",
       "      <td>...</td>\n",
       "      <td>...</td>\n",
       "    </tr>\n",
       "    <tr>\n",
       "      <th>2167</th>\n",
       "      <td>E2524</td>\n",
       "      <td>0.275332</td>\n",
       "    </tr>\n",
       "    <tr>\n",
       "      <th>2168</th>\n",
       "      <td>E4324</td>\n",
       "      <td>0.432513</td>\n",
       "    </tr>\n",
       "    <tr>\n",
       "      <th>2169</th>\n",
       "      <td>E1384</td>\n",
       "      <td>0.890044</td>\n",
       "    </tr>\n",
       "    <tr>\n",
       "      <th>2170</th>\n",
       "      <td>E7582</td>\n",
       "      <td>0.919442</td>\n",
       "    </tr>\n",
       "    <tr>\n",
       "      <th>2171</th>\n",
       "      <td>E5209</td>\n",
       "      <td>0.448774</td>\n",
       "    </tr>\n",
       "  </tbody>\n",
       "</table>\n",
       "<p>2172 rows × 2 columns</p>\n",
       "</div>"
      ],
      "text/plain": [
       "          id      prob\n",
       "0     E10559  0.529388\n",
       "1      E4849  0.697148\n",
       "2      E3964  0.875308\n",
       "3       E542  0.602261\n",
       "4       E331  0.885174\n",
       "...      ...       ...\n",
       "2167   E2524  0.275332\n",
       "2168   E4324  0.432513\n",
       "2169   E1384  0.890044\n",
       "2170   E7582  0.919442\n",
       "2171   E5209  0.448774\n",
       "\n",
       "[2172 rows x 2 columns]"
      ]
     },
     "execution_count": 19,
     "metadata": {},
     "output_type": "execute_result"
    }
   ],
   "source": [
    "z = model1.encode(x, data.train_pos_edge_index)\n",
    "Upload['prob'] = model1.decoder(z,data.test,sigmoid = True).detach().cpu().numpy()\n",
    "Upload"
   ]
  },
  {
   "cell_type": "code",
   "execution_count": 20,
   "id": "9743dd8b",
   "metadata": {},
   "outputs": [],
   "source": [
    "if newfea: \n",
    "    Upload.to_csv('output/GNAE_undirect_best_newfea_'+str(dss_num+1)+'.csv',index=False)\n",
    "else:\n",
    "    Upload.to_csv('output/GNAE_undirect_best_'+str(dss_num+1)+'.csv',index=False)"
   ]
  },
  {
   "cell_type": "code",
   "execution_count": 21,
   "id": "11f03ee3",
   "metadata": {},
   "outputs": [
    {
     "data": {
      "image/png": "[encoded data removed]",
      "text/plain": [
       "<Figure size 640x480 with 1 Axes>"
      ]
     },
     "metadata": {},
     "output_type": "display_data"
    },
    {
     "data": {
      "image/png": "[encoded data removed]",
      "text/plain": [
       "<Figure size 640x480 with 1 Axes>"
      ]
     },
     "metadata": {},
     "output_type": "display_data"
    }
   ],
   "source": [
    "plt.plot(np.array(loss_list),'r',label='loss')\n",
    "plt.xlabel('Epochs')\n",
    "if newfea:\n",
    "    title = 'Loss of GNAE with additional features on dataset'+str(dss_num+1)\n",
    "else:\n",
    "    title = 'Loss of GNAE on dataset'+str(dss_num+1)\n",
    "plt.title(title)\n",
    "plt.savefig('./plot/'+title+'.png')\n",
    "plt.show()\n",
    "\n",
    "plt.plot(np.array(auc_list),'b',label='AUC')\n",
    "plt.plot(np.array(ap_list),'g',label='AP')\n",
    "plt.legend()\n",
    "plt.xlabel('Epochs')\n",
    "if newfea:\n",
    "    title = 'Evaluation on valid data of GNAE on dataset'+str(dss_num+1)+ ' with additional features'\n",
    "else:\n",
    "    title = 'Evaluation on valid data of GNAE on dataset'+str(dss_num+1)\n",
    "\n",
    "plt.title(title)\n",
    "plt.savefig('./plot/'+title+'.png')\n",
    "plt.show()"
   ]
  },
  {
   "cell_type": "code",
   "execution_count": 22,
   "id": "0f445128",
   "metadata": {},
   "outputs": [
    {
     "data": {
      "text/plain": [
       "(0.7008478223205852, 0.7219033389373692)"
      ]
     },
     "execution_count": 22,
     "metadata": {},
     "output_type": "execute_result"
    }
   ],
   "source": [
    "test(data.val_pos_edge_index, data.val_neg_edge_index,model2)"
   ]
  },
  {
   "cell_type": "code",
   "execution_count": 23,
   "id": "a4a4c2b7",
   "metadata": {
    "scrolled": true
   },
   "outputs": [
    {
     "name": "stdout",
     "output_type": "stream",
     "text": [
      "Epoch: 001, LOSS: 14.4633, AUC: 0.7018, AP: 0.7225\n",
      "Epoch: 002, LOSS: 14.2920, AUC: 0.7032, AP: 0.7236\n",
      "Epoch: 003, LOSS: 13.9734, AUC: 0.7042, AP: 0.7243\n",
      "Epoch: 004, LOSS: 14.0835, AUC: 0.7052, AP: 0.7251\n",
      "Epoch: 005, LOSS: 13.6121, AUC: 0.7059, AP: 0.7257\n",
      "Epoch: 006, LOSS: 13.3054, AUC: 0.7066, AP: 0.7263\n",
      "Epoch: 007, LOSS: 13.2644, AUC: 0.7072, AP: 0.7268\n",
      "Epoch: 008, LOSS: 13.1592, AUC: 0.7079, AP: 0.7273\n",
      "Epoch: 009, LOSS: 12.8095, AUC: 0.7085, AP: 0.7279\n",
      "Epoch: 010, LOSS: 12.5011, AUC: 0.7091, AP: 0.7284\n",
      "Epoch: 011, LOSS: 12.6963, AUC: 0.7097, AP: 0.7289\n",
      "Epoch: 012, LOSS: 12.4242, AUC: 0.7102, AP: 0.7294\n",
      "Epoch: 013, LOSS: 12.0932, AUC: 0.7109, AP: 0.7300\n",
      "Epoch: 014, LOSS: 11.7266, AUC: 0.7117, AP: 0.7306\n",
      "Epoch: 015, LOSS: 11.8961, AUC: 0.7125, AP: 0.7312\n",
      "Epoch: 016, LOSS: 11.7899, AUC: 0.7133, AP: 0.7318\n",
      "Epoch: 017, LOSS: 11.3593, AUC: 0.7142, AP: 0.7326\n",
      "Epoch: 018, LOSS: 11.1574, AUC: 0.7153, AP: 0.7334\n",
      "Epoch: 019, LOSS: 11.0523, AUC: 0.7163, AP: 0.7342\n",
      "Epoch: 020, LOSS: 11.2095, AUC: 0.7173, AP: 0.7351\n",
      "Epoch: 021, LOSS: 10.6076, AUC: 0.7184, AP: 0.7360\n",
      "Epoch: 022, LOSS: 10.5494, AUC: 0.7197, AP: 0.7369\n",
      "Epoch: 023, LOSS: 10.4645, AUC: 0.7211, AP: 0.7380\n",
      "Epoch: 024, LOSS: 10.3172, AUC: 0.7225, AP: 0.7391\n",
      "Epoch: 025, LOSS: 10.1380, AUC: 0.7242, AP: 0.7405\n",
      "Epoch: 026, LOSS: 9.9752, AUC: 0.7262, AP: 0.7421\n",
      "Epoch: 027, LOSS: 9.9068, AUC: 0.7281, AP: 0.7438\n",
      "Epoch: 028, LOSS: 9.6767, AUC: 0.7302, AP: 0.7452\n",
      "Epoch: 029, LOSS: 9.6877, AUC: 0.7327, AP: 0.7472\n",
      "Epoch: 030, LOSS: 9.3183, AUC: 0.7358, AP: 0.7497\n",
      "Epoch: 031, LOSS: 9.3694, AUC: 0.7392, AP: 0.7527\n",
      "Epoch: 032, LOSS: 9.0447, AUC: 0.7430, AP: 0.7559\n",
      "Epoch: 033, LOSS: 8.7986, AUC: 0.7478, AP: 0.7600\n",
      "Epoch: 034, LOSS: 8.7411, AUC: 0.7537, AP: 0.7650\n",
      "Epoch: 035, LOSS: 8.7174, AUC: 0.7606, AP: 0.7710\n",
      "Epoch: 036, LOSS: 8.5247, AUC: 0.7688, AP: 0.7783\n",
      "Epoch: 037, LOSS: 8.0289, AUC: 0.7793, AP: 0.7874\n",
      "Epoch: 038, LOSS: 8.1282, AUC: 0.7932, AP: 0.8000\n",
      "Epoch: 039, LOSS: 8.0312, AUC: 0.8111, AP: 0.8165\n",
      "Epoch: 040, LOSS: 7.7915, AUC: 0.8344, AP: 0.8368\n",
      "Epoch: 041, LOSS: 7.5357, AUC: 0.8644, AP: 0.8642\n",
      "Epoch: 042, LOSS: 7.4911, AUC: 0.8987, AP: 0.8954\n",
      "Epoch: 043, LOSS: 7.0546, AUC: 0.9296, AP: 0.9257\n",
      "Epoch: 044, LOSS: 6.7036, AUC: 0.9475, AP: 0.9443\n",
      "Epoch: 045, LOSS: 6.5197, AUC: 0.9520, AP: 0.9491\n",
      "Epoch: 046, LOSS: 6.2547, AUC: 0.9516, AP: 0.9486\n",
      "Epoch: 047, LOSS: 6.3761, AUC: 0.9497, AP: 0.9463\n",
      "Epoch: 048, LOSS: 6.1091, AUC: 0.9475, AP: 0.9442\n",
      "Epoch: 049, LOSS: 6.2068, AUC: 0.9457, AP: 0.9422\n",
      "Epoch: 050, LOSS: 6.0825, AUC: 0.9453, AP: 0.9418\n",
      "Epoch: 051, LOSS: 5.9679, AUC: 0.9467, AP: 0.9430\n",
      "Epoch: 052, LOSS: 5.7410, AUC: 0.9480, AP: 0.9446\n",
      "Epoch: 053, LOSS: 5.6379, AUC: 0.9484, AP: 0.9450\n",
      "Epoch: 054, LOSS: 5.6190, AUC: 0.9484, AP: 0.9455\n",
      "Epoch: 055, LOSS: 5.3455, AUC: 0.9477, AP: 0.9449\n",
      "Epoch: 056, LOSS: 5.3962, AUC: 0.9472, AP: 0.9445\n",
      "Epoch: 057, LOSS: 5.3036, AUC: 0.9468, AP: 0.9442\n",
      "Epoch: 058, LOSS: 5.0944, AUC: 0.9467, AP: 0.9437\n",
      "Epoch: 059, LOSS: 5.1255, AUC: 0.9468, AP: 0.9437\n",
      "Epoch: 060, LOSS: 5.0220, AUC: 0.9471, AP: 0.9436\n",
      "Epoch: 061, LOSS: 4.7787, AUC: 0.9470, AP: 0.9435\n",
      "Epoch: 062, LOSS: 4.7234, AUC: 0.9469, AP: 0.9435\n",
      "Epoch: 063, LOSS: 4.7339, AUC: 0.9464, AP: 0.9428\n",
      "Epoch: 064, LOSS: 4.6270, AUC: 0.9455, AP: 0.9419\n",
      "Epoch: 065, LOSS: 4.5265, AUC: 0.9446, AP: 0.9412\n",
      "Epoch: 066, LOSS: 4.5065, AUC: 0.9439, AP: 0.9405\n",
      "Epoch: 067, LOSS: 4.3399, AUC: 0.9432, AP: 0.9398\n",
      "Epoch: 068, LOSS: 4.2723, AUC: 0.9429, AP: 0.9395\n",
      "Epoch: 069, LOSS: 4.1697, AUC: 0.9427, AP: 0.9393\n",
      "Epoch: 070, LOSS: 4.1939, AUC: 0.9425, AP: 0.9392\n",
      "Epoch: 071, LOSS: 4.1275, AUC: 0.9423, AP: 0.9393\n",
      "Epoch: 072, LOSS: 4.1462, AUC: 0.9418, AP: 0.9390\n",
      "Epoch: 073, LOSS: 4.0521, AUC: 0.9415, AP: 0.9390\n",
      "Epoch: 074, LOSS: 3.8878, AUC: 0.9411, AP: 0.9388\n"
     ]
    }
   ],
   "source": [
    "epochs = 400\n",
    "tolerance = 30 #Proposed: 50\n",
    "best_auc = float('-inf')\n",
    "best_ap = float('-inf')\n",
    "num_tol = 0\n",
    "auc_list = []\n",
    "ap_list = []\n",
    "loss_list = []\n",
    "for epoch in range(1,epochs):\n",
    "    loss = train(model2,optimizer2)\n",
    "    loss = float(loss)\n",
    "    \n",
    "    with torch.no_grad():\n",
    "        #valid_pos, valid_neg = data.val_pos_edge_index, data.val_neg_edge_index\n",
    "        auc, ap = test(data.val_pos_edge_index, data.val_neg_edge_index,model2)\n",
    "        if auc<best_auc and ap<best_ap:\n",
    "            tol += 1\n",
    "            if tol>=tolerance:\n",
    "                break\n",
    "        else:\n",
    "            best_auc = auc\n",
    "            best_ap = ap\n",
    "            best_model = model2.state_dict()\n",
    "            tol = 0\n",
    "            \n",
    "        auc_list.append(auc)\n",
    "        ap_list.append(ap)\n",
    "        loss_list.append(loss)\n",
    "        print('Epoch: {:03d}, LOSS: {:.4f}, AUC: {:.4f}, AP: {:.4f}'.format(epoch, loss, auc, ap))\n",
    "if newfea:\n",
    "    model2_path = './model/VGAE_best_model_VGNAE_newfea_'+str(dss_num+1)+'.pt'\n",
    "else:\n",
    "    model2_path = './model/VGAE_best_model_VGNAE_'+str(dss_num+1)+'.pt'\n",
    "torch.save(best_model, model2_path)"
   ]
  },
  {
   "cell_type": "code",
   "execution_count": 24,
   "id": "921fb3ed",
   "metadata": {},
   "outputs": [
    {
     "data": {
      "text/plain": [
       "(0.9409318780074778, 0.9387271344836794)"
      ]
     },
     "execution_count": 24,
     "metadata": {},
     "output_type": "execute_result"
    }
   ],
   "source": [
    "model2.load_state_dict(torch.load(model2_path))\n",
    "test(data.val_pos_edge_index, data.val_neg_edge_index,model2)"
   ]
  },
  {
   "cell_type": "code",
   "execution_count": 25,
   "id": "2b2addd5",
   "metadata": {},
   "outputs": [
    {
     "data": {
      "text/html": [
       "<div>\n",
       "<style scoped>\n",
       "    .dataframe tbody tr th:only-of-type {\n",
       "        vertical-align: middle;\n",
       "    }\n",
       "\n",
       "    .dataframe tbody tr th {\n",
       "        vertical-align: top;\n",
       "    }\n",
       "\n",
       "    .dataframe thead th {\n",
       "        text-align: right;\n",
       "    }\n",
       "</style>\n",
       "<table border=\"1\" class=\"dataframe\">\n",
       "  <thead>\n",
       "    <tr style=\"text-align: right;\">\n",
       "      <th></th>\n",
       "      <th>id</th>\n",
       "      <th>prob</th>\n",
       "    </tr>\n",
       "  </thead>\n",
       "  <tbody>\n",
       "    <tr>\n",
       "      <th>0</th>\n",
       "      <td>E10559</td>\n",
       "      <td>0.583566</td>\n",
       "    </tr>\n",
       "    <tr>\n",
       "      <th>1</th>\n",
       "      <td>E4849</td>\n",
       "      <td>0.792475</td>\n",
       "    </tr>\n",
       "    <tr>\n",
       "      <th>2</th>\n",
       "      <td>E3964</td>\n",
       "      <td>0.878109</td>\n",
       "    </tr>\n",
       "    <tr>\n",
       "      <th>3</th>\n",
       "      <td>E542</td>\n",
       "      <td>0.564775</td>\n",
       "    </tr>\n",
       "    <tr>\n",
       "      <th>4</th>\n",
       "      <td>E331</td>\n",
       "      <td>0.924848</td>\n",
       "    </tr>\n",
       "    <tr>\n",
       "      <th>...</th>\n",
       "      <td>...</td>\n",
       "      <td>...</td>\n",
       "    </tr>\n",
       "    <tr>\n",
       "      <th>2167</th>\n",
       "      <td>E2524</td>\n",
       "      <td>0.257323</td>\n",
       "    </tr>\n",
       "    <tr>\n",
       "      <th>2168</th>\n",
       "      <td>E4324</td>\n",
       "      <td>0.543136</td>\n",
       "    </tr>\n",
       "    <tr>\n",
       "      <th>2169</th>\n",
       "      <td>E1384</td>\n",
       "      <td>0.912330</td>\n",
       "    </tr>\n",
       "    <tr>\n",
       "      <th>2170</th>\n",
       "      <td>E7582</td>\n",
       "      <td>0.951418</td>\n",
       "    </tr>\n",
       "    <tr>\n",
       "      <th>2171</th>\n",
       "      <td>E5209</td>\n",
       "      <td>0.654836</td>\n",
       "    </tr>\n",
       "  </tbody>\n",
       "</table>\n",
       "<p>2172 rows × 2 columns</p>\n",
       "</div>"
      ],
      "text/plain": [
       "          id      prob\n",
       "0     E10559  0.583566\n",
       "1      E4849  0.792475\n",
       "2      E3964  0.878109\n",
       "3       E542  0.564775\n",
       "4       E331  0.924848\n",
       "...      ...       ...\n",
       "2167   E2524  0.257323\n",
       "2168   E4324  0.543136\n",
       "2169   E1384  0.912330\n",
       "2170   E7582  0.951418\n",
       "2171   E5209  0.654836\n",
       "\n",
       "[2172 rows x 2 columns]"
      ]
     },
     "execution_count": 25,
     "metadata": {},
     "output_type": "execute_result"
    }
   ],
   "source": [
    "z = model2.encode(x, data.train_pos_edge_index)\n",
    "Upload['prob'] = model2.decoder(z,data.test,sigmoid = True).detach().cpu().numpy()\n",
    "Upload"
   ]
  },
  {
   "cell_type": "code",
   "execution_count": 26,
   "id": "acef03af",
   "metadata": {},
   "outputs": [],
   "source": [
    "if newfea: \n",
    "    Upload.to_csv('output/VGNAE_undirect_best_newfea_'+str(dss_num+1)+'.csv',index=False)\n",
    "else:\n",
    "    Upload.to_csv('output/VGNAE_undirect_best_'+str(dss_num+1)+'.csv',index=False)"
   ]
  },
  {
   "cell_type": "code",
   "execution_count": 27,
   "id": "b624215c",
   "metadata": {},
   "outputs": [
    {
     "data": {
      "image/png": "[encoded data removed]",
      "text/plain": [
       "<Figure size 640x480 with 1 Axes>"
      ]
     },
     "metadata": {},
     "output_type": "display_data"
    },
    {
     "data": {
      "image/png": "[encoded data removed]",
      "text/plain": [
       "<Figure size 640x480 with 1 Axes>"
      ]
     },
     "metadata": {},
     "output_type": "display_data"
    }
   ],
   "source": [
    "plt.plot(np.array(loss_list),'r',label='loss')\n",
    "plt.xlabel('Epochs')\n",
    "if newfea:\n",
    "    title = 'Loss of VGNAE with additional features on dataset'+str(dss_num+1)\n",
    "else:\n",
    "    title = 'Loss of VGNAE on dataset'+str(dss_num+1)\n",
    "plt.title(title)\n",
    "plt.savefig('./plot/'+title+'.png')\n",
    "plt.show()\n",
    "\n",
    "plt.plot(np.array(auc_list),'b',label='AUC')\n",
    "plt.plot(np.array(ap_list),'g',label='AP')\n",
    "plt.legend()\n",
    "plt.xlabel('Epochs')\n",
    "if newfea:\n",
    "    title = 'Evaluation on valid data of VGNAE on dataset'+str(dss_num+1)+ ' with additional features'\n",
    "else:\n",
    "    title = 'Evaluation on valid data of VGNAE on dataset'+str(dss_num+1)\n",
    "plt.title(title)\n",
    "plt.savefig('./plot/'+title+'.png')\n",
    "plt.show()"
   ]
  },
  {
   "cell_type": "code",
   "execution_count": 28,
   "id": "be347e02",
   "metadata": {},
   "outputs": [
    {
     "data": {
      "text/html": [
       "<div>\n",
       "<style scoped>\n",
       "    .dataframe tbody tr th:only-of-type {\n",
       "        vertical-align: middle;\n",
       "    }\n",
       "\n",
       "    .dataframe tbody tr th {\n",
       "        vertical-align: top;\n",
       "    }\n",
       "\n",
       "    .dataframe thead th {\n",
       "        text-align: right;\n",
       "    }\n",
       "</style>\n",
       "<table border=\"1\" class=\"dataframe\">\n",
       "  <thead>\n",
       "    <tr style=\"text-align: right;\">\n",
       "      <th></th>\n",
       "      <th>id</th>\n",
       "      <th>prob</th>\n",
       "    </tr>\n",
       "  </thead>\n",
       "  <tbody>\n",
       "    <tr>\n",
       "      <th>0</th>\n",
       "      <td>E10559</td>\n",
       "      <td>0.547447</td>\n",
       "    </tr>\n",
       "    <tr>\n",
       "      <th>1</th>\n",
       "      <td>E4849</td>\n",
       "      <td>0.728923</td>\n",
       "    </tr>\n",
       "    <tr>\n",
       "      <th>2</th>\n",
       "      <td>E3964</td>\n",
       "      <td>0.876241</td>\n",
       "    </tr>\n",
       "    <tr>\n",
       "      <th>3</th>\n",
       "      <td>E542</td>\n",
       "      <td>0.589766</td>\n",
       "    </tr>\n",
       "    <tr>\n",
       "      <th>4</th>\n",
       "      <td>E331</td>\n",
       "      <td>0.898399</td>\n",
       "    </tr>\n",
       "    <tr>\n",
       "      <th>...</th>\n",
       "      <td>...</td>\n",
       "      <td>...</td>\n",
       "    </tr>\n",
       "    <tr>\n",
       "      <th>2167</th>\n",
       "      <td>E2524</td>\n",
       "      <td>0.269329</td>\n",
       "    </tr>\n",
       "    <tr>\n",
       "      <th>2168</th>\n",
       "      <td>E4324</td>\n",
       "      <td>0.469387</td>\n",
       "    </tr>\n",
       "    <tr>\n",
       "      <th>2169</th>\n",
       "      <td>E1384</td>\n",
       "      <td>0.897473</td>\n",
       "    </tr>\n",
       "    <tr>\n",
       "      <th>2170</th>\n",
       "      <td>E7582</td>\n",
       "      <td>0.930101</td>\n",
       "    </tr>\n",
       "    <tr>\n",
       "      <th>2171</th>\n",
       "      <td>E5209</td>\n",
       "      <td>0.517461</td>\n",
       "    </tr>\n",
       "  </tbody>\n",
       "</table>\n",
       "<p>2172 rows × 2 columns</p>\n",
       "</div>"
      ],
      "text/plain": [
       "          id      prob\n",
       "0     E10559  0.547447\n",
       "1      E4849  0.728923\n",
       "2      E3964  0.876241\n",
       "3       E542  0.589766\n",
       "4       E331  0.898399\n",
       "...      ...       ...\n",
       "2167   E2524  0.269329\n",
       "2168   E4324  0.469387\n",
       "2169   E1384  0.897473\n",
       "2170   E7582  0.930101\n",
       "2171   E5209  0.517461\n",
       "\n",
       "[2172 rows x 2 columns]"
      ]
     },
     "execution_count": 28,
     "metadata": {},
     "output_type": "execute_result"
    }
   ],
   "source": [
    "z1 = model1.encode(x, data.train_pos_edge_index)\n",
    "z2 = model2.encode(x, data.train_pos_edge_index)\n",
    "Upload['prob'] = (2*model1.decoder(z1,data.test,sigmoid = True).detach().cpu().numpy()+model2.decoder(z2,data.test,sigmoid = True).detach().cpu().numpy())/3\n",
    "Upload"
   ]
  },
  {
   "cell_type": "code",
   "execution_count": 29,
   "id": "fec92e04",
   "metadata": {},
   "outputs": [],
   "source": [
    "if newfea: \n",
    "    Upload.to_csv('output/Hybrid_undirect_imb_best_newfea_'+str(dss_num+1)+'.csv',index=False)\n",
    "else:\n",
    "    Upload.to_csv('output/Hybrid_undirect_imb_best_'+str(dss_num+1)+'.csv',index=False)"
   ]
  }
 ],
 "metadata": {
  "kernelspec": {
   "display_name": "Python 3 (ipykernel)",
   "language": "python",
   "name": "python3"
  },
  "language_info": {
   "codemirror_mode": {
    "name": "ipython",
    "version": 3
   },
   "file_extension": ".py",
   "mimetype": "text/x-python",
   "name": "python",
   "nbconvert_exporter": "python",
   "pygments_lexer": "ipython3",
   "version": "3.7.16"
  }
 },
 "nbformat": 4,
 "nbformat_minor": 5
}
