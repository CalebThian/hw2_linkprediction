{
 "cells": [
  {
   "cell_type": "markdown",
   "id": "d5d41b82",
   "metadata": {},
   "source": [
    "# Input Data"
   ]
  },
  {
   "cell_type": "code",
   "execution_count": 62,
   "id": "cd80b587",
   "metadata": {},
   "outputs": [],
   "source": [
    "import pandas as pd\n",
    "import torch\n",
    "import numpy as np\n",
    "import networkx as nx\n",
    "import scipy.sparse as sp\n",
    "from torch_geometric.data import Data\n",
    "from torch_geometric.utils import to_undirected, from_scipy_sparse_matrix,dense_to_sparse,is_undirected"
   ]
  },
  {
   "cell_type": "code",
   "execution_count": 63,
   "id": "b5d02b5a",
   "metadata": {},
   "outputs": [
    {
     "data": {
      "text/html": [
       "<div>\n",
       "<style scoped>\n",
       "    .dataframe tbody tr th:only-of-type {\n",
       "        vertical-align: middle;\n",
       "    }\n",
       "\n",
       "    .dataframe tbody tr th {\n",
       "        vertical-align: top;\n",
       "    }\n",
       "\n",
       "    .dataframe thead th {\n",
       "        text-align: right;\n",
       "    }\n",
       "</style>\n",
       "<table border=\"1\" class=\"dataframe\">\n",
       "  <thead>\n",
       "    <tr style=\"text-align: right;\">\n",
       "      <th></th>\n",
       "      <th>id</th>\n",
       "      <th>to</th>\n",
       "      <th>from</th>\n",
       "    </tr>\n",
       "  </thead>\n",
       "  <tbody>\n",
       "    <tr>\n",
       "      <th>0</th>\n",
       "      <td>E370</td>\n",
       "      <td>26</td>\n",
       "      <td>317</td>\n",
       "    </tr>\n",
       "    <tr>\n",
       "      <th>1</th>\n",
       "      <td>E667</td>\n",
       "      <td>196</td>\n",
       "      <td>323</td>\n",
       "    </tr>\n",
       "    <tr>\n",
       "      <th>2</th>\n",
       "      <td>E3190</td>\n",
       "      <td>739</td>\n",
       "      <td>468</td>\n",
       "    </tr>\n",
       "    <tr>\n",
       "      <th>3</th>\n",
       "      <td>E848</td>\n",
       "      <td>576</td>\n",
       "      <td>156</td>\n",
       "    </tr>\n",
       "    <tr>\n",
       "      <th>4</th>\n",
       "      <td>E2161</td>\n",
       "      <td>466</td>\n",
       "      <td>199</td>\n",
       "    </tr>\n",
       "  </tbody>\n",
       "</table>\n",
       "</div>"
      ],
      "text/plain": [
       "      id   to  from\n",
       "0   E370   26   317\n",
       "1   E667  196   323\n",
       "2  E3190  739   468\n",
       "3   E848  576   156\n",
       "4  E2161  466   199"
      ]
     },
     "execution_count": 63,
     "metadata": {},
     "output_type": "execute_result"
    }
   ],
   "source": [
    "path = \"hw2_data/\"\n",
    "dss = ['dataset1','dataset2','dataset3'] #datasets\n",
    "dataset = dict()\n",
    "for ds in dss:\n",
    "    dataset[ds] = dict()\n",
    "    dataset[ds]['content'] = pd.read_csv(path+ds+\"/content.csv\",delimiter = '\\t',header = None)\n",
    "    dataset[ds]['train'] = pd.read_csv(path+ds+\"/train.csv\",delimiter = ',')\n",
    "    dataset[ds]['test'] = pd.read_csv(path+ds+\"/test.csv\",delimiter = ',')\n",
    "    dataset[ds]['upload'] = pd.read_csv(path+ds+\"/upload.csv\",delimiter = ',')\n",
    "dataset[dss[2]]['test'].head()"
   ]
  },
  {
   "cell_type": "markdown",
   "id": "386673fd",
   "metadata": {},
   "source": [
    "## Data Explore"
   ]
  },
  {
   "cell_type": "code",
   "execution_count": 64,
   "id": "6594ca3f",
   "metadata": {},
   "outputs": [
    {
     "name": "stdout",
     "output_type": "stream",
     "text": [
      "(2708, 1434)\n",
      "2708\n"
     ]
    },
    {
     "data": {
      "text/plain": [
       "(1433,)"
      ]
     },
     "execution_count": 64,
     "metadata": {},
     "output_type": "execute_result"
    }
   ],
   "source": [
    "print(dataset[dss[0]]['content'].shape)\n",
    "print(len(dataset[dss[0]]['content']))\n",
    "np.array(dataset[dss[0]]['content'].iloc[0,1:]).shape"
   ]
  },
  {
   "cell_type": "code",
   "execution_count": 65,
   "id": "56c518e3",
   "metadata": {},
   "outputs": [
    {
     "name": "stdout",
     "output_type": "stream",
     "text": [
      "(8686, 4)\n",
      "8686\n"
     ]
    },
    {
     "data": {
      "text/plain": [
       "2397"
      ]
     },
     "execution_count": 65,
     "metadata": {},
     "output_type": "execute_result"
    }
   ],
   "source": [
    "print(dataset[dss[0]]['train'].shape)\n",
    "print(len(dataset[dss[0]]['train']))\n",
    "dataset[dss[0]]['train'].loc[1,'to']"
   ]
  },
  {
   "cell_type": "code",
   "execution_count": 102,
   "id": "57935d74",
   "metadata": {},
   "outputs": [
    {
     "data": {
      "image/png": "[encoded data removed]",
      "text/plain": [
       "<Figure size 640x480 with 1 Axes>"
      ]
     },
     "metadata": {},
     "output_type": "display_data"
    }
   ],
   "source": [
    "G = nx.DiGraph()\n",
    "G.add_edge(0,1,label=0)\n",
    "G.add_edge(0,2,label=1)\n",
    "G.add_edge(1,2,label=1)\n",
    "nx.draw(G)"
   ]
  },
  {
   "cell_type": "code",
   "execution_count": 103,
   "id": "308f8c7f",
   "metadata": {},
   "outputs": [
    {
     "data": {
      "text/plain": [
       "[(0, 2, 1), (1, 2, 1)]"
      ]
     },
     "execution_count": 103,
     "metadata": {},
     "output_type": "execute_result"
    }
   ],
   "source": [
    "[e for e in list(G.edges.data('label')) if e[2]==1]"
   ]
  },
  {
   "cell_type": "code",
   "execution_count": 67,
   "id": "631b3516",
   "metadata": {},
   "outputs": [],
   "source": [
    "#For example:\n",
    "Content = dataset[dss[0]]['content']\n",
    "Train = dataset[dss[0]]['train']\n",
    "Test = dataset[dss[0]]['test']"
   ]
  },
  {
   "cell_type": "code",
   "execution_count": 68,
   "id": "70a3529a",
   "metadata": {},
   "outputs": [
    {
     "data": {
      "text/plain": [
       "(2708, 1434)"
      ]
     },
     "execution_count": 68,
     "metadata": {},
     "output_type": "execute_result"
    }
   ],
   "source": [
    "Content.shape"
   ]
  },
  {
   "cell_type": "code",
   "execution_count": 69,
   "id": "f6ca0c4a",
   "metadata": {},
   "outputs": [
    {
     "data": {
      "text/html": [
       "<div>\n",
       "<style scoped>\n",
       "    .dataframe tbody tr th:only-of-type {\n",
       "        vertical-align: middle;\n",
       "    }\n",
       "\n",
       "    .dataframe tbody tr th {\n",
       "        vertical-align: top;\n",
       "    }\n",
       "\n",
       "    .dataframe thead th {\n",
       "        text-align: right;\n",
       "    }\n",
       "</style>\n",
       "<table border=\"1\" class=\"dataframe\">\n",
       "  <thead>\n",
       "    <tr style=\"text-align: right;\">\n",
       "      <th></th>\n",
       "      <th>id</th>\n",
       "      <th>to</th>\n",
       "      <th>from</th>\n",
       "      <th>label</th>\n",
       "    </tr>\n",
       "  </thead>\n",
       "  <tbody>\n",
       "    <tr>\n",
       "      <th>1</th>\n",
       "      <td>E10255</td>\n",
       "      <td>2397</td>\n",
       "      <td>1144</td>\n",
       "      <td>1</td>\n",
       "    </tr>\n",
       "    <tr>\n",
       "      <th>4</th>\n",
       "      <td>E5926</td>\n",
       "      <td>2450</td>\n",
       "      <td>1312</td>\n",
       "      <td>1</td>\n",
       "    </tr>\n",
       "    <tr>\n",
       "      <th>6</th>\n",
       "      <td>E7506</td>\n",
       "      <td>1808</td>\n",
       "      <td>2472</td>\n",
       "      <td>1</td>\n",
       "    </tr>\n",
       "    <tr>\n",
       "      <th>8</th>\n",
       "      <td>E7406</td>\n",
       "      <td>2030</td>\n",
       "      <td>2494</td>\n",
       "      <td>1</td>\n",
       "    </tr>\n",
       "    <tr>\n",
       "      <th>14</th>\n",
       "      <td>E10087</td>\n",
       "      <td>1767</td>\n",
       "      <td>4</td>\n",
       "      <td>1</td>\n",
       "    </tr>\n",
       "    <tr>\n",
       "      <th>...</th>\n",
       "      <td>...</td>\n",
       "      <td>...</td>\n",
       "      <td>...</td>\n",
       "      <td>...</td>\n",
       "    </tr>\n",
       "    <tr>\n",
       "      <th>8680</th>\n",
       "      <td>E1204</td>\n",
       "      <td>2508</td>\n",
       "      <td>2278</td>\n",
       "      <td>1</td>\n",
       "    </tr>\n",
       "    <tr>\n",
       "      <th>8682</th>\n",
       "      <td>E4741</td>\n",
       "      <td>1879</td>\n",
       "      <td>1443</td>\n",
       "      <td>1</td>\n",
       "    </tr>\n",
       "    <tr>\n",
       "      <th>8683</th>\n",
       "      <td>E9256</td>\n",
       "      <td>171</td>\n",
       "      <td>1711</td>\n",
       "      <td>1</td>\n",
       "    </tr>\n",
       "    <tr>\n",
       "      <th>8684</th>\n",
       "      <td>E4322</td>\n",
       "      <td>633</td>\n",
       "      <td>2440</td>\n",
       "      <td>1</td>\n",
       "    </tr>\n",
       "    <tr>\n",
       "      <th>8685</th>\n",
       "      <td>E4434</td>\n",
       "      <td>122</td>\n",
       "      <td>1222</td>\n",
       "      <td>1</td>\n",
       "    </tr>\n",
       "  </tbody>\n",
       "</table>\n",
       "<p>4324 rows × 4 columns</p>\n",
       "</div>"
      ],
      "text/plain": [
       "          id    to  from  label\n",
       "1     E10255  2397  1144      1\n",
       "4      E5926  2450  1312      1\n",
       "6      E7506  1808  2472      1\n",
       "8      E7406  2030  2494      1\n",
       "14    E10087  1767     4      1\n",
       "...      ...   ...   ...    ...\n",
       "8680   E1204  2508  2278      1\n",
       "8682   E4741  1879  1443      1\n",
       "8683   E9256   171  1711      1\n",
       "8684   E4322   633  2440      1\n",
       "8685   E4434   122  1222      1\n",
       "\n",
       "[4324 rows x 4 columns]"
      ]
     },
     "execution_count": 69,
     "metadata": {},
     "output_type": "execute_result"
    }
   ],
   "source": [
    "Train[Train['label']==1]"
   ]
  },
  {
   "cell_type": "markdown",
   "id": "84c4dec3",
   "metadata": {},
   "source": [
    "---\n",
    "# Main"
   ]
  },
  {
   "cell_type": "code",
   "execution_count": 70,
   "id": "146bcc66",
   "metadata": {},
   "outputs": [
    {
     "name": "stdout",
     "output_type": "stream",
     "text": [
      "Device: cuda\n"
     ]
    }
   ],
   "source": [
    "device = torch.device('cuda' if torch.cuda.is_available() else 'cpu')\n",
    "print('Device:', device)"
   ]
  },
  {
   "cell_type": "code",
   "execution_count": 71,
   "id": "39300ec7",
   "metadata": {},
   "outputs": [],
   "source": [
    "def set_random_seed(seed):\n",
    "    np.random.seed(seed)\n",
    "    torch.manual_seed(seed)\n",
    "    if torch.cuda.is_available():\n",
    "        torch.cuda.manual_seed(seed)\n",
    "        torch.cuda.manual_seed_all(seed)"
   ]
  },
  {
   "cell_type": "markdown",
   "id": "3561e861",
   "metadata": {},
   "source": [
    "## Data Preprocessing"
   ]
  },
  {
   "cell_type": "code",
   "execution_count": 72,
   "id": "1d9f964e",
   "metadata": {},
   "outputs": [],
   "source": [
    "def floor(x):\n",
    "    return torch.div(x, 1, rounding_mode='trunc')"
   ]
  },
  {
   "cell_type": "code",
   "execution_count": 73,
   "id": "6f17ed51",
   "metadata": {},
   "outputs": [],
   "source": [
    "def preprocess_features(features):\n",
    "    # Row-normalize feature matrix and convert to tuple representation\n",
    "    # Because the datasets only have binary features, row-normalize is unnecessary\n",
    "    rowsum = np.array(features.sum(1),dtype = np.float32)\n",
    "    rowsum = (rowsum==0)*1+rowsum\n",
    "    r_inv = np.power(rowsum, -1).flatten()\n",
    "    r_inv[np.isinf(r_inv)] = 0.\n",
    "    r_mat_inv = sp.diags(r_inv)\n",
    "    features = r_mat_inv.dot(features)\n",
    "    return features"
   ]
  },
  {
   "cell_type": "code",
   "execution_count": 158,
   "id": "ac257e4b",
   "metadata": {},
   "outputs": [],
   "source": [
    "def load_data(content,train,test):\n",
    "    G = nx.DiGraph()\n",
    "    G_test = nx.DiGraph()\n",
    "    # for easier split the edges, create 2 graph, 1 with positive edge, the other with given negative edges\n",
    "    G_pos = nx.DiGraph()\n",
    "    G_neg = nx.DiGraph()\n",
    "    graph_node_features_dict = dict()\n",
    "    \n",
    "    for i in range(len(content)):\n",
    "        #graph_node_features_dict[content.iloc[i,0]] = np.array(content.iloc[i,1:])\n",
    "        G.add_node(int(content.iloc[i,0]),features = np.array(content.iloc[i,1:]))\n",
    "        G_test.add_node(int(content.iloc[i,0]),features = np.array(content.iloc[i,1:]))\n",
    "        # pos and neg\n",
    "        G_pos.add_node(int(content.iloc[i,0]),features = np.array(content.iloc[i,1:]))\n",
    "        G_neg.add_node(int(content.iloc[i,0]),features = np.array(content.iloc[i,1:]))\n",
    "        \n",
    "    for i in range(len(train)):\n",
    "        # Adding nodes into G\n",
    "        '''\n",
    "        if train.loc[i,'from'] not in G:\n",
    "            G.add_node(train.loc[i,'from'],features = graph_node_features_dict[train.loc[i,'from']])\n",
    "        if train.loc[i,'to'] not in G:\n",
    "            G.add_node(train.loc[i,'to'],features = graph_node_features_dict[train.loc[i,'to']])\n",
    "        ''' \n",
    "        # Adding edges\n",
    "        G.add_edge(train.loc[i,'from'],train.loc[i,'to'],label = train.loc[i,'label'])\n",
    "        \n",
    "        # pos and neg\n",
    "        if train.loc[i,'label'] == 0: \n",
    "            G_neg.add_edge(train.loc[i,'from'],train.loc[i,'to'],label = train.loc[i,'label'])\n",
    "        else:\n",
    "            G_pos.add_edge(train.loc[i,'from'],train.loc[i,'to'],label = train.loc[i,'label'])\n",
    "    \n",
    "    for i in range(len(test)):\n",
    "        # Adding edges\n",
    "        G_test.add_edge(test.loc[i,'from'],test.loc[i,'to'])\n",
    "    \n",
    "    adj = nx.adjacency_matrix(G,sorted(G.nodes()))\n",
    "    adj_test = nx.adjacency_matrix(G_test,sorted(G_test.nodes()))\n",
    "    adj_pos = nx.adjacency_matrix(G_pos,sorted(G_pos.nodes()))\n",
    "    adj_neg = nx.adjacency_matrix(G_neg,sorted(G_neg.nodes()))\n",
    "    features = np.array(\n",
    "        [features for _, features in sorted(G.nodes(data='features'), key=lambda x: x[0])])\n",
    "    features = preprocess_features(features)\n",
    "    \n",
    "    # Skip train,valid,and test mask\n",
    "    \n",
    "    num_features = features.shape[1]\n",
    "    features = torch.FloatTensor(features)\n",
    "    return adj, adj_test, adj_pos, adj_neg, features, num_features"
   ]
  },
  {
   "cell_type": "code",
   "execution_count": 160,
   "id": "993f1a70",
   "metadata": {},
   "outputs": [],
   "source": [
    "g, gtest, pos, neg, features, num_features = load_data(Content,Train,Test)"
   ]
  },
  {
   "cell_type": "code",
   "execution_count": 164,
   "id": "b52cea53",
   "metadata": {},
   "outputs": [
    {
     "data": {
      "text/plain": [
       "''"
      ]
     },
     "execution_count": 164,
     "metadata": {},
     "output_type": "execute_result"
    }
   ],
   "source": [
    "def split_edges(data):\n",
    "    set_random_seed(10) #Seed is randomly set\n",
    "    \n",
    "    # ? This select the edges that from<to, but why?\n",
    "    row, col = data.edge_index\n",
    "    mask = row < col\n",
    "    row, col = row[mask], col[mask]\n",
    "    \n",
    "    val_ratio = 0.1\n",
    "    test_ratio = 0.1\n",
    "    \n",
    "    #split positive edges\n",
    "    row_pos, col_pos = data.pos\n",
    "    mask_pos = row_pos < col_pos\n",
    "    row_pos, col_pos = row_pos[mask_pos], col_pos[mask_pos]\n",
    "    \n",
    "    \n",
    "    n_v = floor(val_ratio * row_pos.size(0)).int() #number of validation positive edges\n",
    "    n_t = floor(test_ratio * row_pos.size(0)).int() #number of test positive edges\n",
    "    \n",
    "    perm = torch.randperm(row_pos.size(0))\n",
    "    row_pos, col_pos = row_pos[perm], col_pos[perm]\n",
    "    r, c = row_pos[:n_v], col_pos[:n_v]\n",
    "    data.val_pos = torch.stack([r, c], dim=0)\n",
    "    r, c = row_pos[n_v:n_v+n_t], col_pos[n_v:n_v+n_t]\n",
    "    data.test_pos = torch.stack([r, c], dim=0)\n",
    "    r, c = row_pos[n_v+n_t:], col_pos[n_v+n_t:]\n",
    "    data.train_pos = torch.stack([r, c], dim=0)\n",
    "    print(data.train_pos.shape,data.test_pos.shape,data.val_pos.shape)\n",
    "\n",
    "    #split neg edges\n",
    "    row_neg, col_neg = data.neg\n",
    "    mask_neg = row_neg < col_neg\n",
    "    row_neg, col_neg = row_neg[mask_neg], col_neg[mask_neg]\n",
    "    \n",
    "    \n",
    "    n_v = floor(val_ratio * row_neg.size(0)).int() #number of validation positive edges\n",
    "    n_t = floor(test_ratio * row_neg.size(0)).int() #number of test positive edges\n",
    "    \n",
    "    perm = torch.randperm(row_neg.size(0))\n",
    "    row_neg, col_neg = row_neg[perm], col_neg[perm]\n",
    "    r, c = row_neg[:n_v], col_neg[:n_v]\n",
    "    data.val_neg = torch.stack([r, c], dim=0)\n",
    "    r, c = row_neg[n_v:n_v+n_t], col_neg[n_v:n_v+n_t]\n",
    "    data.test_neg = torch.stack([r, c], dim=0)\n",
    "    r, c = row_neg[n_v+n_t:], col_neg[n_v+n_t:]\n",
    "    data.train_neg = torch.stack([r, c], dim=0)\n",
    "    print(data.train_neg.shape,data.test_neg.shape,data.val_neg.shape)\n",
    "    return data\n",
    "\n",
    "    #costruct real test edges\n",
    "    row_test,col_test = data.test\n",
    "    data.test - torch.stack([row_test,col_test],dim = 0)\n",
    "'''\n",
    "    #sample negative edges\n",
    "    if args.practical_neg_sample == False:\n",
    "        # If practical_neg_sample == False, the sampled negative edges\n",
    "        # in the training and validation set aware the test set\n",
    "\n",
    "        neg_adj_mask = torch.ones(data.num_nodes, data.num_nodes, dtype=torch.uint8)\n",
    "        neg_adj_mask = neg_adj_mask.triu(diagonal=1).to(torch.bool)\n",
    "        neg_adj_mask[row, col] = 0\n",
    "\n",
    "        # Sample all the negative edges and split into val, test, train negs\n",
    "        neg_row, neg_col = neg_adj_mask.nonzero(as_tuple=False).t()\n",
    "        perm = torch.randperm(neg_row.size(0))[:row.size(0)]\n",
    "        neg_row, neg_col = neg_row[perm], neg_col[perm]\n",
    "\n",
    "        row, col = neg_row[:n_v], neg_col[:n_v]\n",
    "        data.val_neg = torch.stack([row, col], dim=0)\n",
    "\n",
    "        row, col = neg_row[n_v:n_v + n_t], neg_col[n_v:n_v + n_t]\n",
    "        data.test_neg = torch.stack([row, col], dim=0)\n",
    "\n",
    "        row, col = neg_row[n_v + n_t:], neg_col[n_v + n_t:]\n",
    "        data.train_neg = torch.stack([row, col], dim=0)\n",
    "\n",
    "    else:\n",
    "\n",
    "        neg_adj_mask = torch.ones(data.num_nodes, data.num_nodes, dtype=torch.uint8)\n",
    "        neg_adj_mask = neg_adj_mask.triu(diagonal=1).to(torch.bool)\n",
    "        neg_adj_mask[row, col] = 0\n",
    "\n",
    "        # Sample the test negative edges first\n",
    "        neg_row, neg_col = neg_adj_mask.nonzero(as_tuple=False).t()\n",
    "        perm = torch.randperm(neg_row.size(0))[:n_t]\n",
    "        neg_row, neg_col = neg_row[perm], neg_col[perm]\n",
    "        data.test_neg = torch.stack([neg_row, neg_col], dim=0)\n",
    "\n",
    "        # Sample the train and val negative edges with only knowing \n",
    "        # the train positive edges\n",
    "        row, col = data.train_pos\n",
    "        neg_adj_mask = torch.ones(data.num_nodes, data.num_nodes, dtype=torch.uint8)\n",
    "        neg_adj_mask = neg_adj_mask.triu(diagonal=1).to(torch.bool)\n",
    "        neg_adj_mask[row, col] = 0\n",
    "\n",
    "        # Sample the train and validation negative edges\n",
    "        neg_row, neg_col = neg_adj_mask.nonzero(as_tuple=False).t()\n",
    "\n",
    "        n_tot = n_v + data.train_pos.size(1)\n",
    "        perm = torch.randperm(neg_row.size(0))[:n_tot]\n",
    "        neg_row, neg_col = neg_row[perm], neg_col[perm]\n",
    "\n",
    "        row, col = neg_row[:n_v], neg_col[:n_v]\n",
    "        data.val_neg = torch.stack([row, col], dim=0)\n",
    "\n",
    "        row, col = neg_row[n_v:], neg_col[n_v:]\n",
    "        data.train_neg = torch.stack([row, col], dim=0)\n",
    "    return data\n",
    "'''\n",
    "''''''"
   ]
  },
  {
   "cell_type": "code",
   "execution_count": 165,
   "id": "89e9c111",
   "metadata": {},
   "outputs": [],
   "source": [
    "# Prepare the data\n",
    "def prepare_data(content,train,test):\n",
    "    g, gtest, pos, neg, features, num_features = load_data(content,train,test)\n",
    "    A = g.toarray()\n",
    "    edge_index,_ = dense_to_sparse(torch.tensor(A))\n",
    "    Atest = gtest.toarray()\n",
    "    edge_index_test,_ = dense_to_sparse(torch.tensor(Atest))\n",
    "    Apos = pos.toarray()\n",
    "    edge_index_pos,_ = dense_to_sparse(torch.tensor(Apos))\n",
    "    Aneg = neg.toarray()\n",
    "    edge_index_neg,_ = dense_to_sparse(torch.tensor(Aneg))\n",
    "    data = Data(edge_index=edge_index,x=features.to(torch.float),pos = edge_index_pos,neg = edge_index_neg,test = edge_index_test)\n",
    "    data = split_edges(data)\n",
    "    return data"
   ]
  },
  {
   "cell_type": "code",
   "execution_count": 166,
   "id": "c7e84a74",
   "metadata": {},
   "outputs": [
    {
     "name": "stdout",
     "output_type": "stream",
     "text": [
      "torch.Size([2, 1729]) torch.Size([2, 216]) torch.Size([2, 216])\n",
      "torch.Size([2, 1673]) torch.Size([2, 209]) torch.Size([2, 209])\n"
     ]
    },
    {
     "data": {
      "text/plain": [
       "tensor([[1067,  941,  304,  ...,   19, 1773, 1991],\n",
       "        [1315, 2243,  360,  ...,  354, 2050, 2453]])"
      ]
     },
     "execution_count": 166,
     "metadata": {},
     "output_type": "execute_result"
    }
   ],
   "source": [
    "data = prepare_data(Content,Train,Test)\n",
    "data.train_pos"
   ]
  },
  {
   "cell_type": "code",
   "execution_count": 169,
   "id": "10957699",
   "metadata": {},
   "outputs": [
    {
     "data": {
      "text/plain": [
       "torch.Size([2, 2172])"
      ]
     },
     "execution_count": 169,
     "metadata": {},
     "output_type": "execute_result"
    }
   ],
   "source": [
    "data.test.shape"
   ]
  },
  {
   "cell_type": "code",
   "execution_count": 170,
   "id": "b47946ce",
   "metadata": {},
   "outputs": [
    {
     "data": {
      "text/plain": [
       "(2172, 3)"
      ]
     },
     "execution_count": 170,
     "metadata": {},
     "output_type": "execute_result"
    }
   ],
   "source": [
    "Test.shape"
   ]
  },
  {
   "cell_type": "code",
   "execution_count": 61,
   "id": "99e4aa1c",
   "metadata": {},
   "outputs": [
    {
     "data": {
      "text/html": [
       "<div>\n",
       "<style scoped>\n",
       "    .dataframe tbody tr th:only-of-type {\n",
       "        vertical-align: middle;\n",
       "    }\n",
       "\n",
       "    .dataframe tbody tr th {\n",
       "        vertical-align: top;\n",
       "    }\n",
       "\n",
       "    .dataframe thead th {\n",
       "        text-align: right;\n",
       "    }\n",
       "</style>\n",
       "<table border=\"1\" class=\"dataframe\">\n",
       "  <thead>\n",
       "    <tr style=\"text-align: right;\">\n",
       "      <th></th>\n",
       "      <th>id</th>\n",
       "      <th>to</th>\n",
       "      <th>from</th>\n",
       "      <th>label</th>\n",
       "    </tr>\n",
       "  </thead>\n",
       "  <tbody>\n",
       "    <tr>\n",
       "      <th>0</th>\n",
       "      <td>E10311</td>\n",
       "      <td>2399</td>\n",
       "      <td>2339</td>\n",
       "      <td>0</td>\n",
       "    </tr>\n",
       "    <tr>\n",
       "      <th>1</th>\n",
       "      <td>E10255</td>\n",
       "      <td>2397</td>\n",
       "      <td>1144</td>\n",
       "      <td>1</td>\n",
       "    </tr>\n",
       "    <tr>\n",
       "      <th>3</th>\n",
       "      <td>E9395</td>\n",
       "      <td>872</td>\n",
       "      <td>702</td>\n",
       "      <td>0</td>\n",
       "    </tr>\n",
       "    <tr>\n",
       "      <th>4</th>\n",
       "      <td>E5926</td>\n",
       "      <td>2450</td>\n",
       "      <td>1312</td>\n",
       "      <td>1</td>\n",
       "    </tr>\n",
       "    <tr>\n",
       "      <th>9</th>\n",
       "      <td>E5573</td>\n",
       "      <td>682</td>\n",
       "      <td>100</td>\n",
       "      <td>0</td>\n",
       "    </tr>\n",
       "    <tr>\n",
       "      <th>...</th>\n",
       "      <td>...</td>\n",
       "      <td>...</td>\n",
       "      <td>...</td>\n",
       "      <td>...</td>\n",
       "    </tr>\n",
       "    <tr>\n",
       "      <th>8676</th>\n",
       "      <td>E1250</td>\n",
       "      <td>1481</td>\n",
       "      <td>611</td>\n",
       "      <td>1</td>\n",
       "    </tr>\n",
       "    <tr>\n",
       "      <th>8677</th>\n",
       "      <td>E0</td>\n",
       "      <td>1685</td>\n",
       "      <td>1150</td>\n",
       "      <td>1</td>\n",
       "    </tr>\n",
       "    <tr>\n",
       "      <th>8680</th>\n",
       "      <td>E1204</td>\n",
       "      <td>2508</td>\n",
       "      <td>2278</td>\n",
       "      <td>1</td>\n",
       "    </tr>\n",
       "    <tr>\n",
       "      <th>8681</th>\n",
       "      <td>E1171</td>\n",
       "      <td>1643</td>\n",
       "      <td>1383</td>\n",
       "      <td>0</td>\n",
       "    </tr>\n",
       "    <tr>\n",
       "      <th>8682</th>\n",
       "      <td>E4741</td>\n",
       "      <td>1879</td>\n",
       "      <td>1443</td>\n",
       "      <td>1</td>\n",
       "    </tr>\n",
       "  </tbody>\n",
       "</table>\n",
       "<p>4252 rows × 4 columns</p>\n",
       "</div>"
      ],
      "text/plain": [
       "          id    to  from  label\n",
       "0     E10311  2399  2339      0\n",
       "1     E10255  2397  1144      1\n",
       "3      E9395   872   702      0\n",
       "4      E5926  2450  1312      1\n",
       "9      E5573   682   100      0\n",
       "...      ...   ...   ...    ...\n",
       "8676   E1250  1481   611      1\n",
       "8677      E0  1685  1150      1\n",
       "8680   E1204  2508  2278      1\n",
       "8681   E1171  1643  1383      0\n",
       "8682   E4741  1879  1443      1\n",
       "\n",
       "[4252 rows x 4 columns]"
      ]
     },
     "execution_count": 61,
     "metadata": {},
     "output_type": "execute_result"
    }
   ],
   "source": [
    "Train[Train['from']<Train['to']]"
   ]
  },
  {
   "cell_type": "code",
   "execution_count": null,
   "id": "f9a41413",
   "metadata": {},
   "outputs": [],
   "source": [
    "    #load data from .mat or download from Planetoid dataset.\n",
    "    \n",
    "    if args.data_name in ('cora', 'citeseer', 'pubmed'):\n",
    "        data = load_Planetoid_data(args)\n",
    "        data = split_edges(data,args)\n",
    "    elif args.data_name in ('chameleon','squirrel','film','cornell','texas','wisconsin'):\n",
    "        datastr = args.data_name\n",
    "        split_index=str(0)## this split is node-classification split from geom-gcn, not for link prediction\n",
    "        splitstr = 'data/new_data_splits/'+datastr+'_split_0.6_0.2_'+split_index+'.npz'\n",
    "        g, features, labels, _, _, _, num_features, num_labels = new_load_data(datastr,splitstr)\n",
    "        A=g.toarray()\n",
    "        edge_index,_=dense_to_sparse(torch.tensor(A))\n",
    "        data=Data(edge_index=edge_index,x=features.to(torch.float))\n",
    "        data = split_edges(data,args)\n",
    "    else:\n",
    "        if args.use_splitted == True: #use splitted train/val/test\n",
    "            data = load_splitted_data(args)\n",
    "        else:\n",
    "            data = load_unsplitted_data(args)\n",
    "            data = split_edges(data,args)\n",
    "    \n",
    "    \n",
    "\n",
    "    set_random_seed(args.seed)\n",
    "    data_observed,feature_results= set_init_attribute_representation(data,args)\n",
    "\n",
    "    #Construct train, val and test data loader.\n",
    "    set_random_seed(args.seed)\n",
    "    train_graphs = []\n",
    "    val_graphs = []\n",
    "    test_graphs = []\n",
    "    for i in range(data.train_pos.size(1)):\n",
    "        train_graphs.append(minus_edge(data_observed,1,data.train_pos[:,i],args))\n",
    "\n",
    "    for i in range(data.train_neg.size(1)):\n",
    "        train_graphs.append(plus_edge(data_observed,0,data.train_neg[:,i],args))\n",
    "\n",
    "    for i in range(data.test_pos.size(1)):\n",
    "        test_graphs.append(plus_edge(data_observed,1,data.test_pos[:,i],args))\n",
    "\n",
    "    for i in range(data.test_neg.size(1)):\n",
    "        test_graphs.append(plus_edge(data_observed,0,data.test_neg[:,i],args))   \n",
    "    if args.observe_val_and_injection == False:\n",
    "        for i in range(data.val_pos.size(1)):\n",
    "            val_graphs.append(plus_edge(data_observed,1,data.val_pos[:,i],args))\n",
    "\n",
    "        for i in range(data.val_neg.size(1)):\n",
    "            val_graphs.append(plus_edge(data_observed,0,data.val_neg[:,i],args))\n",
    "    else:\n",
    "        for i in range(data.val_pos.size(1)):\n",
    "            val_graphs.append(minus_edge(data_observed,1,data.val_pos[:,i],args))\n",
    "\n",
    "        for i in range(data.val_neg.size(1)):\n",
    "            val_graphs.append(plus_edge(data_observed,0,data.val_neg[:,i],args))\n",
    "\n",
    "\n",
    "    \n",
    "    print('Train_link:', str(len(train_graphs)),' Val_link:',str(len(val_graphs)),' Test_link:',str(len(test_graphs)))\n",
    "\n",
    "    train_loader = DataLoader(train_graphs,batch_size=args.batch_size,shuffle=True)\n",
    "    val_loader = DataLoader(val_graphs,batch_size=args.batch_size,shuffle=True)\n",
    "    test_loader = DataLoader(test_graphs,batch_size=args.batch_size,shuffle=False)\n",
    "\n",
    "    return train_loader, val_loader, test_loader,feature_results\n"
   ]
  }
 ],
 "metadata": {
  "kernelspec": {
   "display_name": "Python 3 (ipykernel)",
   "language": "python",
   "name": "python3"
  },
  "language_info": {
   "codemirror_mode": {
    "name": "ipython",
    "version": 3
   },
   "file_extension": ".py",
   "mimetype": "text/x-python",
   "name": "python",
   "nbconvert_exporter": "python",
   "pygments_lexer": "ipython3",
   "version": "3.7.16"
  }
 },
 "nbformat": 4,
 "nbformat_minor": 5
}
